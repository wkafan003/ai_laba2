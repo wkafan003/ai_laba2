{
 "cells": [
  {
   "cell_type": "code",
   "execution_count": 18,
   "outputs": [],
   "source": [
    "import numpy as np\n",
    "import scipy as sp\n",
    "import sympy as sm\n",
    "import pandas as pd\n",
    "\n",
    "import bottleneck as bn\n",
    "import numexpr as ne\n",
    "import numba as nb\n",
    "\n",
    "import matplotlib as mpl\n",
    "import matplotlib.pyplot as plt\n",
    "import seaborn as sns\n",
    "\n",
    "\n",
    "#sns.set()"
   ],
   "metadata": {
    "collapsed": false,
    "pycharm": {
     "name": "#%%\n"
    }
   }
  },
  {
   "cell_type": "code",
   "execution_count": 19,
   "outputs": [
    {
     "data": {
      "text/plain": "'1.7.0'"
     },
     "execution_count": 19,
     "metadata": {},
     "output_type": "execute_result"
    }
   ],
   "source": [
    "\n",
    "import torch\n",
    "\n",
    "from torch import nn\n",
    "import torch.nn.functional as F\n",
    "from torch.utils.data import DataLoader, TensorDataset\n",
    "from torchvision import datasets, transforms\n",
    "\n",
    "torch.__version__"
   ],
   "metadata": {
    "collapsed": false,
    "pycharm": {
     "name": "#%%\n"
    }
   }
  },
  {
   "cell_type": "code",
   "execution_count": 20,
   "outputs": [
    {
     "name": "stdout",
     "output_type": "stream",
     "text": [
      "loss: 1.626184  [32000/50000]\n",
      "Files already downloaded and verified\n",
      "Files already downloaded and verified\n"
     ]
    }
   ],
   "source": [
    "train_dataloader = torch.utils.data.DataLoader(datasets.CIFAR10('../cifar',\n",
    "                                                                download=True,\n",
    "                                                                train=True,\n",
    "                                                                transform=transforms.Compose([\n",
    "                                                                    transforms.ToTensor(),\n",
    "                                                                ])),\n",
    "                                               batch_size=64,\n",
    "                                               shuffle=True)\n",
    "\n",
    "test_dataloader = torch.utils.data.DataLoader(datasets.CIFAR10('../cifar',\n",
    "                                                               download=True,\n",
    "                                                               train=False,\n",
    "                                                               transform=transforms.Compose([\n",
    "                                                                   transforms.ToTensor(),\n",
    "\n",
    "                                                               ])),\n",
    "                                              batch_size=64,\n",
    "                                              shuffle=True)\n"
   ],
   "metadata": {
    "collapsed": false,
    "pycharm": {
     "name": "#%%\n"
    }
   }
  },
  {
   "cell_type": "code",
   "execution_count": 21,
   "outputs": [
    {
     "name": "stdout",
     "output_type": "stream",
     "text": [
      "Shape of X [N, C, H, W]:  torch.Size([64, 3, 32, 32])\n",
      "Shape of y:  torch.Size([64]) torch.int64\n"
     ]
    }
   ],
   "source": [
    "for X, y in test_dataloader:\n",
    "    print(\"Shape of X [N, C, H, W]: \", X.shape)\n",
    "    print(\"Shape of y: \", y.shape, y.dtype)\n",
    "    break\n"
   ],
   "metadata": {
    "collapsed": false,
    "pycharm": {
     "name": "#%%\n"
    }
   }
  },
  {
   "cell_type": "code",
   "execution_count": 22,
   "outputs": [
    {
     "name": "stdout",
     "output_type": "stream",
     "text": [
      "Using cuda device\n"
     ]
    }
   ],
   "source": [
    "# Get cpu or gpu device for training.\n",
    "device = \"cuda\" if torch.cuda.is_available() else \"cpu\"\n",
    "print(\"Using {} device\".format(device))\n",
    "\n",
    "\n",
    "class NeuralNetwork1(nn.Module):\n",
    "    def __init__(self):\n",
    "        super(NeuralNetwork1, self).__init__()\n",
    "        self.flatten = nn.Flatten()\n",
    "        self.linear_relu_stack = nn.Sequential(\n",
    "            nn.Linear(32 * 32 * 3, 10),\n",
    "            nn.Softmax(-1)\n",
    "        )\n",
    "\n",
    "    def forward(self, x):\n",
    "        x = self.flatten(x)\n",
    "        logits = self.linear_relu_stack(x)\n",
    "        return logits\n",
    "\n",
    "\n",
    "class NeuralNetwork2(nn.Module):\n",
    "    def __init__(self):\n",
    "        super(NeuralNetwork2, self).__init__()\n",
    "        self.flatten = nn.Flatten()\n",
    "        self.linear_relu_stack = nn.Sequential(\n",
    "            nn.Linear(64 * 64, 1024),\n",
    "            nn.ReLU(),\n",
    "            nn.Linear(1024, 512),\n",
    "            nn.ReLU(),\n",
    "            nn.Linear(512, 3),\n",
    "            nn.Dropout(p=0.5),\n",
    "            # nn.ReLU(),\n",
    "            nn.Softmax(-1)\n",
    "        )\n",
    "\n",
    "    def forward(self, x):\n",
    "        x = self.flatten(x)\n",
    "        logits = self.linear_relu_stack(x)\n",
    "        return logits\n",
    "\n",
    "\n",
    "class NeuralNetworkCNN(nn.Module):\n",
    "    def __init__(self):\n",
    "        super().__init__()\n",
    "        self.conv1 = nn.Conv2d(3, 64, 3)\n",
    "        self.pool = nn.MaxPool2d(2, 2)\n",
    "        self.conv2 = nn.Conv2d(64, 64, 3)\n",
    "        self.conv3 = nn.Conv2d(64, 128, 3)\n",
    "        self.fc1 = nn.Linear(128 * 2 * 2, 128)\n",
    "        self.fc2 = nn.Linear(128, 64)\n",
    "        self.fc3 = nn.Linear(64, 10)\n",
    "\n",
    "    def forward(self, x):\n",
    "        x = self.pool(F.relu(self.conv1(x)))\n",
    "        x = self.pool(F.relu(self.conv2(x)))\n",
    "        x = self.pool(F.relu(self.conv3(x)))\n",
    "        #print(x.shape)\n",
    "        x = torch.flatten(x, 1)  # flatten all dimensions except batch\n",
    "        x = F.dropout(x, p=0.3)\n",
    "        x = F.relu(self.fc1(x))\n",
    "        x = F.relu(self.fc2(x))\n",
    "        x = self.fc3(x)\n",
    "        return x"
   ],
   "metadata": {
    "collapsed": false,
    "pycharm": {
     "name": "#%%\n"
    }
   }
  },
  {
   "cell_type": "code",
   "execution_count": 23,
   "outputs": [],
   "source": [
    "def train(dataloader, model, loss_fn, optimizer):\n",
    "    model.train()\n",
    "    size = len(dataloader.dataset)\n",
    "    for batch, (X, y) in enumerate(dataloader):\n",
    "        X, y = X.to(device), y.to(device)\n",
    "\n",
    "        # Compute prediction error\n",
    "        pred = model(X)\n",
    "        loss = loss_fn(pred, y)\n",
    "\n",
    "        # Backpropagation\n",
    "        optimizer.zero_grad()\n",
    "        loss.backward()\n",
    "        optimizer.step()\n",
    "\n",
    "        if batch % 100 == 0:\n",
    "            loss, current = loss.item(), batch * len(X)\n",
    "            print(f\"loss: {loss:>7f}  [{current:>5d}/{size:>5d}]\")"
   ],
   "metadata": {
    "collapsed": false,
    "pycharm": {
     "name": "#%%\n"
    }
   }
  },
  {
   "cell_type": "code",
   "execution_count": 24,
   "outputs": [],
   "source": [
    "def test(dataloader, model, loss_fn, title='Test'):\n",
    "    size = len(dataloader.dataset)\n",
    "    model.eval()\n",
    "    test_loss, correct = 0, 0\n",
    "    with torch.no_grad():\n",
    "        for X, y in dataloader:\n",
    "            X, y = X.to(device), y.to(device)\n",
    "            pred = model(X)\n",
    "            test_loss += loss_fn(pred, y).item()\n",
    "            correct += (pred.argmax(1) == y).type(torch.float).sum().item()\n",
    "    test_loss /= size\n",
    "    correct /= size\n",
    "    print(f\"{title} Error: \\n Accuracy: {(100 * correct):>0.1f}%, Avg loss: {test_loss:>8f} \\n\")\n",
    "    return correct"
   ],
   "metadata": {
    "collapsed": false,
    "pycharm": {
     "name": "#%%\n"
    }
   }
  },
  {
   "cell_type": "markdown",
   "source": [
    "Однослойная сеть, разделение выборки случайно"
   ],
   "metadata": {
    "collapsed": false
   }
  },
  {
   "cell_type": "code",
   "execution_count": 25,
   "outputs": [
    {
     "name": "stdout",
     "output_type": "stream",
     "text": [
      "loss: 1.770653  [38400/50000]\n",
      "Requirement already satisfied: ray[tune] in /opt/conda/lib/python3.7/site-packages (1.2.0)\r\n",
      "Requirement already satisfied: jsonschema in /opt/conda/lib/python3.7/site-packages (from ray[tune]) (3.2.0)\r\n",
      "Requirement already satisfied: numpy>=1.16 in /opt/conda/lib/python3.7/site-packages (from ray[tune]) (1.19.5)\r\n",
      "Requirement already satisfied: prometheus-client>=0.7.1 in /opt/conda/lib/python3.7/site-packages (from ray[tune]) (0.9.0)\r\n",
      "Requirement already satisfied: click>=7.0 in /opt/conda/lib/python3.7/site-packages (from ray[tune]) (7.1.2)\r\n",
      "Requirement already satisfied: grpcio>=1.28.1 in /opt/conda/lib/python3.7/site-packages (from ray[tune]) (1.32.0)\r\n",
      "Requirement already satisfied: protobuf>=3.8.0 in /opt/conda/lib/python3.7/site-packages (from ray[tune]) (3.15.6)\r\n",
      "Requirement already satisfied: requests in /opt/conda/lib/python3.7/site-packages (from ray[tune]) (2.25.1)\r\n",
      "Requirement already satisfied: colorful in /opt/conda/lib/python3.7/site-packages (from ray[tune]) (0.5.4)\r\n",
      "Requirement already satisfied: filelock in /opt/conda/lib/python3.7/site-packages (from ray[tune]) (3.0.12)\r\n",
      "Requirement already satisfied: aiohttp-cors in /opt/conda/lib/python3.7/site-packages (from ray[tune]) (0.7.0)\r\n",
      "Requirement already satisfied: aioredis in /opt/conda/lib/python3.7/site-packages (from ray[tune]) (1.3.1)\r\n",
      "Requirement already satisfied: aiohttp in /opt/conda/lib/python3.7/site-packages (from ray[tune]) (3.7.3)\r\n",
      "Requirement already satisfied: py-spy>=0.2.0 in /opt/conda/lib/python3.7/site-packages (from ray[tune]) (0.3.5)\r\n",
      "Requirement already satisfied: pyyaml in /opt/conda/lib/python3.7/site-packages (from ray[tune]) (5.3.1)\r\n",
      "Requirement already satisfied: colorama in /opt/conda/lib/python3.7/site-packages (from ray[tune]) (0.4.4)\r\n",
      "Requirement already satisfied: gpustat in /opt/conda/lib/python3.7/site-packages (from ray[tune]) (0.6.0)\r\n",
      "Requirement already satisfied: msgpack<2.0.0,>=1.0.0 in /opt/conda/lib/python3.7/site-packages (from ray[tune]) (1.0.2)\r\n",
      "Requirement already satisfied: redis>=3.5.0 in /opt/conda/lib/python3.7/site-packages (from ray[tune]) (3.5.3)\r\n",
      "Requirement already satisfied: opencensus in /opt/conda/lib/python3.7/site-packages (from ray[tune]) (0.7.12)\r\n",
      "Requirement already satisfied: pandas in /opt/conda/lib/python3.7/site-packages (from ray[tune]) (1.1.5)\r\n",
      "Requirement already satisfied: tabulate in /opt/conda/lib/python3.7/site-packages (from ray[tune]) (0.8.9)\r\n",
      "Requirement already satisfied: tensorboardX in /opt/conda/lib/python3.7/site-packages (from ray[tune]) (2.1)\r\n",
      "Requirement already satisfied: six>=1.5.2 in /opt/conda/lib/python3.7/site-packages (from grpcio>=1.28.1->ray[tune]) (1.15.0)\r\n",
      "Requirement already satisfied: async-timeout<4.0,>=3.0 in /opt/conda/lib/python3.7/site-packages (from aiohttp->ray[tune]) (3.0.1)\r\n",
      "Requirement already satisfied: typing-extensions>=3.6.5 in /opt/conda/lib/python3.7/site-packages (from aiohttp->ray[tune]) (3.7.4.3)\r\n",
      "Requirement already satisfied: attrs>=17.3.0 in /opt/conda/lib/python3.7/site-packages (from aiohttp->ray[tune]) (20.3.0)\r\n",
      "Requirement already satisfied: multidict<7.0,>=4.5 in /opt/conda/lib/python3.7/site-packages (from aiohttp->ray[tune]) (5.1.0)\r\n",
      "Requirement already satisfied: yarl<2.0,>=1.0 in /opt/conda/lib/python3.7/site-packages (from aiohttp->ray[tune]) (1.6.3)\r\n",
      "Requirement already satisfied: chardet<4.0,>=2.0 in /opt/conda/lib/python3.7/site-packages (from aiohttp->ray[tune]) (3.0.4)\r\n",
      "Requirement already satisfied: idna>=2.0 in /opt/conda/lib/python3.7/site-packages (from yarl<2.0,>=1.0->aiohttp->ray[tune]) (2.10)\r\n",
      "Requirement already satisfied: hiredis in /opt/conda/lib/python3.7/site-packages (from aioredis->ray[tune]) (2.0.0)\r\n",
      "Requirement already satisfied: blessings>=1.6 in /opt/conda/lib/python3.7/site-packages (from gpustat->ray[tune]) (1.7)\r\n",
      "Requirement already satisfied: nvidia-ml-py3>=7.352.0 in /opt/conda/lib/python3.7/site-packages (from gpustat->ray[tune]) (7.352.0)\r\n",
      "Requirement already satisfied: psutil in /opt/conda/lib/python3.7/site-packages (from gpustat->ray[tune]) (5.8.0)\r\n",
      "Requirement already satisfied: importlib-metadata in /opt/conda/lib/python3.7/site-packages (from jsonschema->ray[tune]) (3.4.0)\r\n",
      "Requirement already satisfied: setuptools in /opt/conda/lib/python3.7/site-packages (from jsonschema->ray[tune]) (49.6.0.post20210108)\r\n",
      "Requirement already satisfied: pyrsistent>=0.14.0 in /opt/conda/lib/python3.7/site-packages (from jsonschema->ray[tune]) (0.17.3)\r\n",
      "Requirement already satisfied: zipp>=0.5 in /opt/conda/lib/python3.7/site-packages (from importlib-metadata->jsonschema->ray[tune]) (3.4.0)\r\n",
      "Requirement already satisfied: google-api-core<2.0.0,>=1.0.0 in /opt/conda/lib/python3.7/site-packages (from opencensus->ray[tune]) (1.22.4)\r\n",
      "Requirement already satisfied: opencensus-context==0.1.2 in /opt/conda/lib/python3.7/site-packages (from opencensus->ray[tune]) (0.1.2)\r\n",
      "Requirement already satisfied: googleapis-common-protos<2.0dev,>=1.6.0 in /opt/conda/lib/python3.7/site-packages (from google-api-core<2.0.0,>=1.0.0->opencensus->ray[tune]) (1.52.0)\r\n",
      "Requirement already satisfied: pytz in /opt/conda/lib/python3.7/site-packages (from google-api-core<2.0.0,>=1.0.0->opencensus->ray[tune]) (2021.1)\r\n",
      "Requirement already satisfied: google-auth<2.0dev,>=1.21.1 in /opt/conda/lib/python3.7/site-packages (from google-api-core<2.0.0,>=1.0.0->opencensus->ray[tune]) (1.24.0)\r\n",
      "Requirement already satisfied: cachetools<5.0,>=2.0.0 in /opt/conda/lib/python3.7/site-packages (from google-auth<2.0dev,>=1.21.1->google-api-core<2.0.0,>=1.0.0->opencensus->ray[tune]) (4.2.1)\r\n",
      "Requirement already satisfied: rsa<5,>=3.1.4 in /opt/conda/lib/python3.7/site-packages (from google-auth<2.0dev,>=1.21.1->google-api-core<2.0.0,>=1.0.0->opencensus->ray[tune]) (4.7.1)\r\n",
      "Requirement already satisfied: pyasn1-modules>=0.2.1 in /opt/conda/lib/python3.7/site-packages (from google-auth<2.0dev,>=1.21.1->google-api-core<2.0.0,>=1.0.0->opencensus->ray[tune]) (0.2.7)\r\n",
      "Requirement already satisfied: pyasn1<0.5.0,>=0.4.6 in /opt/conda/lib/python3.7/site-packages (from pyasn1-modules>=0.2.1->google-auth<2.0dev,>=1.21.1->google-api-core<2.0.0,>=1.0.0->opencensus->ray[tune]) (0.4.8)\r\n",
      "Requirement already satisfied: urllib3<1.27,>=1.21.1 in /opt/conda/lib/python3.7/site-packages (from requests->ray[tune]) (1.26.3)\r\n",
      "Requirement already satisfied: certifi>=2017.4.17 in /opt/conda/lib/python3.7/site-packages (from requests->ray[tune]) (2020.12.5)\r\n",
      "Requirement already satisfied: python-dateutil>=2.7.3 in /opt/conda/lib/python3.7/site-packages (from pandas->ray[tune]) (2.8.1)\r\n",
      "loss: 1.633596  [44800/50000]\n",
      "Train Error: \n",
      " Accuracy: 60.5%, Avg loss: 0.017476 \n",
      "\n",
      "Test Error: \n",
      " Accuracy: 58.4%, Avg loss: 0.018388 \n",
      "\n",
      "\u001B[33mWARNING: Skipping dataclasses as it is not installed.\u001B[0m\r\n"
     ]
    }
   ],
   "source": [
    "\n",
    "\n",
    "!pip install ray[tune]\n",
    "!pip uninstall -y dataclasses"
   ],
   "metadata": {
    "collapsed": false,
    "pycharm": {
     "name": "#%%\n"
    }
   }
  },
  {
   "cell_type": "code",
   "execution_count": 26,
   "outputs": [
    {
     "name": "stderr",
     "output_type": "stream",
     "text": [
      "2021-06-17 20:12:01,324\tINFO worker.py:665 -- Calling ray.init() again after it has already been called.\n"
     ]
    },
    {
     "name": "stdout",
     "output_type": "stream",
     "text": [
      "NeuralNetworkCNN(\n",
      "  (conv1): Conv2d(3, 64, kernel_size=(3, 3), stride=(1, 1))\n",
      "  (pool): MaxPool2d(kernel_size=2, stride=2, padding=0, dilation=1, ceil_mode=False)\n",
      "  (conv2): Conv2d(64, 64, kernel_size=(3, 3), stride=(1, 1))\n",
      "  (conv3): Conv2d(64, 128, kernel_size=(3, 3), stride=(1, 1))\n",
      "  (fc1): Linear(in_features=512, out_features=128, bias=True)\n",
      "  (fc2): Linear(in_features=128, out_features=64, bias=True)\n",
      "  (fc3): Linear(in_features=64, out_features=10, bias=True)\n",
      ")\n",
      "Epoch 1\n",
      "-------------------------------\n",
      "loss: 2.315755  [    0/50000]\n",
      "loss: 2.115036  [ 6400/50000]\n",
      "Train Error: \n",
      " Accuracy: 34.6%, Avg loss: 0.027089 \n",
      "\n",
      "loss: 1.670417  [12800/50000]\n",
      "Test Error: \n",
      " Accuracy: 34.3%, Avg loss: 0.027144 \n",
      "\n",
      "loss: 1.973652  [19200/50000]\n",
      "loss: 1.632050  [25600/50000]\n",
      "loss: 1.678942  [32000/50000]\n",
      "loss: 1.628077  [38400/50000]\n",
      "loss: 1.427530  [44800/50000]\n",
      "Train Error: \n",
      " Accuracy: 45.6%, Avg loss: 0.022962 \n",
      "\n"
     ]
    },
    {
     "name": "stderr",
     "output_type": "stream",
     "text": [
      "2021-06-17 20:12:29,685\tWARNING util.py:152 -- The `start_trial` operation took 23.782 s, which may be a performance bottleneck.\n"
     ]
    },
    {
     "name": "stdout",
     "output_type": "stream",
     "text": [
      "Test Error: \n",
      " Accuracy: 46.1%, Avg loss: 0.023041 \n",
      "\n"
     ]
    },
    {
     "data": {
      "text/plain": "<IPython.core.display.HTML object>",
      "text/html": "== Status ==<br>Memory usage on this node: 7.8/15.6 GiB<br>Using FIFO scheduling algorithm.<br>Resources requested: 1/2 CPUs, 1/1 GPUs, 0.0/6.93 GiB heap, 0.0/2.39 GiB objects (0/1.0 accelerator_type:P100)<br>Result logdir: /root/ray_results/my_func_2021-06-17_20-12-02<br>Number of trials: 1/4 (1 RUNNING)<br><table>\n<thead>\n<tr><th>Trial name         </th><th>status  </th><th>loc  </th><th style=\"text-align: right;\">        lr</th></tr>\n</thead>\n<tbody>\n<tr><td>my_func_486c8_00000</td><td>RUNNING </td><td>     </td><td style=\"text-align: right;\">0.00144876</td></tr>\n</tbody>\n</table><br><br>"
     },
     "metadata": {},
     "output_type": "display_data"
    },
    {
     "name": "stdout",
     "output_type": "stream",
     "text": [
      "Result for my_func_486c8_00000:\n",
      "  date: 2021-06-17_20-12-29\n",
      "  done: false\n",
      "  experiment_id: de775b5e81d54efca7a62d8e0a92cacb\n",
      "  hostname: 13a89f6488bf\n",
      "  iterations_since_restore: 1\n",
      "  mean_accuracy: 0.4607\n",
      "  node_ip: 172.19.2.2\n",
      "  pid: 164\n",
      "  time_since_restore: 20.241771936416626\n",
      "  time_this_iter_s: 20.241771936416626\n",
      "  time_total_s: 20.241771936416626\n",
      "  timestamp: 1623960749\n",
      "  timesteps_since_restore: 0\n",
      "  training_iteration: 1\n",
      "  trial_id: 486c8_00000\n",
      "  \n",
      "Epoch 2\n",
      "-------------------------------\n",
      "loss: 1.340109  [    0/50000]\n",
      "loss: 1.355134  [ 6400/50000]\n",
      "loss: 1.478916  [12800/50000]\n",
      "loss: 1.143574  [19200/50000]\n",
      "loss: 1.320531  [25600/50000]\n",
      "loss: 1.227752  [32000/50000]\n",
      "loss: 1.244257  [38400/50000]\n",
      "loss: 1.258316  [44800/50000]\n",
      "Train Error: \n",
      " Accuracy: 54.7%, Avg loss: 0.019570 \n",
      "\n",
      "Test Error: \n",
      " Accuracy: 53.8%, Avg loss: 0.020050 \n",
      "\n"
     ]
    },
    {
     "data": {
      "text/plain": "<IPython.core.display.HTML object>",
      "text/html": "== Status ==<br>Memory usage on this node: 8.0/15.6 GiB<br>Using FIFO scheduling algorithm.<br>Resources requested: 1/2 CPUs, 1/1 GPUs, 0.0/6.93 GiB heap, 0.0/2.39 GiB objects (0/1.0 accelerator_type:P100)<br>Result logdir: /root/ray_results/my_func_2021-06-17_20-12-02<br>Number of trials: 2/4 (1 PENDING, 1 RUNNING)<br><table>\n<thead>\n<tr><th>Trial name         </th><th>status  </th><th>loc           </th><th style=\"text-align: right;\">        lr</th><th style=\"text-align: right;\">   acc</th><th style=\"text-align: right;\">  iter</th><th style=\"text-align: right;\">  total time (s)</th></tr>\n</thead>\n<tbody>\n<tr><td>my_func_486c8_00000</td><td>RUNNING </td><td>172.19.2.2:164</td><td style=\"text-align: right;\">0.00144876</td><td style=\"text-align: right;\">0.4607</td><td style=\"text-align: right;\">     1</td><td style=\"text-align: right;\">         20.2418</td></tr>\n<tr><td>my_func_486c8_00001</td><td>PENDING </td><td>              </td><td style=\"text-align: right;\">0.00015086</td><td style=\"text-align: right;\">      </td><td style=\"text-align: right;\">      </td><td style=\"text-align: right;\">                </td></tr>\n</tbody>\n</table><br><br>"
     },
     "metadata": {},
     "output_type": "display_data"
    },
    {
     "name": "stdout",
     "output_type": "stream",
     "text": [
      "Result for my_func_486c8_00000:\n",
      "  date: 2021-06-17_20-12-45\n",
      "  done: false\n",
      "  experiment_id: de775b5e81d54efca7a62d8e0a92cacb\n",
      "  hostname: 13a89f6488bf\n",
      "  iterations_since_restore: 2\n",
      "  mean_accuracy: 0.5384\n",
      "  node_ip: 172.19.2.2\n",
      "  pid: 164\n",
      "  time_since_restore: 35.56569862365723\n",
      "  time_this_iter_s: 15.3239266872406\n",
      "  time_total_s: 35.56569862365723\n",
      "  timestamp: 1623960765\n",
      "  timesteps_since_restore: 0\n",
      "  training_iteration: 2\n",
      "  trial_id: 486c8_00000\n",
      "  \n",
      "Epoch 3\n",
      "-------------------------------\n",
      "loss: 1.045897  [    0/50000]\n",
      "loss: 1.225473  [ 6400/50000]\n",
      "loss: 1.108927  [12800/50000]\n",
      "loss: 1.286976  [19200/50000]\n",
      "loss: 1.020602  [25600/50000]\n",
      "loss: 1.147276  [32000/50000]\n",
      "loss: 1.282893  [38400/50000]\n",
      "loss: 1.260429  [44800/50000]\n",
      "Train Error: \n",
      " Accuracy: 58.3%, Avg loss: 0.018153 \n",
      "\n",
      "Test Error: \n",
      " Accuracy: 56.2%, Avg loss: 0.019123 \n",
      "\n"
     ]
    },
    {
     "data": {
      "text/plain": "<IPython.core.display.HTML object>",
      "text/html": "== Status ==<br>Memory usage on this node: 8.0/15.6 GiB<br>Using FIFO scheduling algorithm.<br>Resources requested: 1/2 CPUs, 1/1 GPUs, 0.0/6.93 GiB heap, 0.0/2.39 GiB objects (0/1.0 accelerator_type:P100)<br>Result logdir: /root/ray_results/my_func_2021-06-17_20-12-02<br>Number of trials: 2/4 (1 PENDING, 1 RUNNING)<br><table>\n<thead>\n<tr><th>Trial name         </th><th>status  </th><th>loc           </th><th style=\"text-align: right;\">        lr</th><th style=\"text-align: right;\">   acc</th><th style=\"text-align: right;\">  iter</th><th style=\"text-align: right;\">  total time (s)</th></tr>\n</thead>\n<tbody>\n<tr><td>my_func_486c8_00000</td><td>RUNNING </td><td>172.19.2.2:164</td><td style=\"text-align: right;\">0.00144876</td><td style=\"text-align: right;\">0.5384</td><td style=\"text-align: right;\">     2</td><td style=\"text-align: right;\">         35.5657</td></tr>\n<tr><td>my_func_486c8_00001</td><td>PENDING </td><td>              </td><td style=\"text-align: right;\">0.00015086</td><td style=\"text-align: right;\">      </td><td style=\"text-align: right;\">      </td><td style=\"text-align: right;\">                </td></tr>\n</tbody>\n</table><br><br>"
     },
     "metadata": {},
     "output_type": "display_data"
    },
    {
     "name": "stdout",
     "output_type": "stream",
     "text": [
      "Result for my_func_486c8_00000:\n",
      "  date: 2021-06-17_20-12-59\n",
      "  done: false\n",
      "  experiment_id: de775b5e81d54efca7a62d8e0a92cacb\n",
      "  hostname: 13a89f6488bf\n",
      "  iterations_since_restore: 3\n",
      "  mean_accuracy: 0.5624\n",
      "  node_ip: 172.19.2.2\n",
      "  pid: 164\n",
      "  time_since_restore: 50.14045572280884\n",
      "  time_this_iter_s: 14.574757099151611\n",
      "  time_total_s: 50.14045572280884\n",
      "  timestamp: 1623960779\n",
      "  timesteps_since_restore: 0\n",
      "  training_iteration: 3\n",
      "  trial_id: 486c8_00000\n",
      "  \n",
      "Epoch 4\n",
      "-------------------------------\n",
      "loss: 1.180374  [    0/50000]\n",
      "loss: 1.207368  [ 6400/50000]\n",
      "loss: 1.328062  [12800/50000]\n",
      "loss: 1.092678  [19200/50000]\n",
      "loss: 1.201684  [25600/50000]\n",
      "loss: 1.127442  [32000/50000]\n",
      "loss: 1.193244  [38400/50000]\n",
      "loss: 1.309353  [44800/50000]\n",
      "Train Error: \n",
      " Accuracy: 60.6%, Avg loss: 0.017216 \n",
      "\n",
      "Test Error: \n",
      " Accuracy: 59.0%, Avg loss: 0.018054 \n",
      "\n"
     ]
    },
    {
     "data": {
      "text/plain": "<IPython.core.display.HTML object>",
      "text/html": "== Status ==<br>Memory usage on this node: 7.1/15.6 GiB<br>Using FIFO scheduling algorithm.<br>Resources requested: 1/2 CPUs, 1/1 GPUs, 0.0/6.93 GiB heap, 0.0/2.39 GiB objects (0/1.0 accelerator_type:P100)<br>Result logdir: /root/ray_results/my_func_2021-06-17_20-12-02<br>Number of trials: 2/4 (1 PENDING, 1 RUNNING)<br><table>\n<thead>\n<tr><th>Trial name         </th><th>status  </th><th>loc           </th><th style=\"text-align: right;\">        lr</th><th style=\"text-align: right;\">   acc</th><th style=\"text-align: right;\">  iter</th><th style=\"text-align: right;\">  total time (s)</th></tr>\n</thead>\n<tbody>\n<tr><td>my_func_486c8_00000</td><td>RUNNING </td><td>172.19.2.2:164</td><td style=\"text-align: right;\">0.00144876</td><td style=\"text-align: right;\">0.5624</td><td style=\"text-align: right;\">     3</td><td style=\"text-align: right;\">         50.1405</td></tr>\n<tr><td>my_func_486c8_00001</td><td>PENDING </td><td>              </td><td style=\"text-align: right;\">0.00015086</td><td style=\"text-align: right;\">      </td><td style=\"text-align: right;\">      </td><td style=\"text-align: right;\">                </td></tr>\n</tbody>\n</table><br><br>"
     },
     "metadata": {},
     "output_type": "display_data"
    },
    {
     "name": "stderr",
     "output_type": "stream",
     "text": [
      "2021-06-17 20:13:13,614\tWARNING ray_trial_executor.py:593 -- Over the last 60 seconds, the Tune event loop has been backlogged processing new results. Consider increasing your period of result reporting to improve performance.\n"
     ]
    },
    {
     "name": "stdout",
     "output_type": "stream",
     "text": [
      "Result for my_func_486c8_00000:\n",
      "  date: 2021-06-17_20-13-13\n",
      "  done: false\n",
      "  experiment_id: de775b5e81d54efca7a62d8e0a92cacb\n",
      "  hostname: 13a89f6488bf\n",
      "  iterations_since_restore: 4\n",
      "  mean_accuracy: 0.5902\n",
      "  node_ip: 172.19.2.2\n",
      "  pid: 164\n",
      "  time_since_restore: 64.16543507575989\n",
      "  time_this_iter_s: 14.02497935295105\n",
      "  time_total_s: 64.16543507575989\n",
      "  timestamp: 1623960793\n",
      "  timesteps_since_restore: 0\n",
      "  training_iteration: 4\n",
      "  trial_id: 486c8_00000\n",
      "  \n",
      "Epoch 5\n",
      "-------------------------------\n",
      "loss: 0.907772  [    0/50000]\n",
      "loss: 1.004165  [ 6400/50000]\n",
      "loss: 1.346877  [12800/50000]\n",
      "loss: 1.078771  [19200/50000]\n",
      "loss: 0.954502  [25600/50000]\n",
      "loss: 0.992074  [32000/50000]\n",
      "loss: 1.074635  [38400/50000]\n",
      "loss: 1.032520  [44800/50000]\n",
      "Train Error: \n",
      " Accuracy: 60.5%, Avg loss: 0.017934 \n",
      "\n",
      "Test Error: \n",
      " Accuracy: 57.5%, Avg loss: 0.019164 \n",
      "\n"
     ]
    },
    {
     "data": {
      "text/plain": "<IPython.core.display.HTML object>",
      "text/html": "== Status ==<br>Memory usage on this node: 7.1/15.6 GiB<br>Using FIFO scheduling algorithm.<br>Resources requested: 1/2 CPUs, 1/1 GPUs, 0.0/6.93 GiB heap, 0.0/2.39 GiB objects (0/1.0 accelerator_type:P100)<br>Result logdir: /root/ray_results/my_func_2021-06-17_20-12-02<br>Number of trials: 2/4 (1 PENDING, 1 RUNNING)<br><table>\n<thead>\n<tr><th>Trial name         </th><th>status  </th><th>loc           </th><th style=\"text-align: right;\">        lr</th><th style=\"text-align: right;\">   acc</th><th style=\"text-align: right;\">  iter</th><th style=\"text-align: right;\">  total time (s)</th></tr>\n</thead>\n<tbody>\n<tr><td>my_func_486c8_00000</td><td>RUNNING </td><td>172.19.2.2:164</td><td style=\"text-align: right;\">0.00144876</td><td style=\"text-align: right;\">0.5902</td><td style=\"text-align: right;\">     4</td><td style=\"text-align: right;\">         64.1654</td></tr>\n<tr><td>my_func_486c8_00001</td><td>PENDING </td><td>              </td><td style=\"text-align: right;\">0.00015086</td><td style=\"text-align: right;\">      </td><td style=\"text-align: right;\">      </td><td style=\"text-align: right;\">                </td></tr>\n</tbody>\n</table><br><br>"
     },
     "metadata": {},
     "output_type": "display_data"
    },
    {
     "name": "stdout",
     "output_type": "stream",
     "text": [
      "Result for my_func_486c8_00000:\n",
      "  date: 2021-06-17_20-13-27\n",
      "  done: false\n",
      "  experiment_id: de775b5e81d54efca7a62d8e0a92cacb\n",
      "  hostname: 13a89f6488bf\n",
      "  iterations_since_restore: 5\n",
      "  mean_accuracy: 0.5748\n",
      "  node_ip: 172.19.2.2\n",
      "  pid: 164\n",
      "  time_since_restore: 78.27404880523682\n",
      "  time_this_iter_s: 14.108613729476929\n",
      "  time_total_s: 78.27404880523682\n",
      "  timestamp: 1623960807\n",
      "  timesteps_since_restore: 0\n",
      "  training_iteration: 5\n",
      "  trial_id: 486c8_00000\n",
      "  \n",
      "Epoch 6\n",
      "-------------------------------\n",
      "loss: 1.185782  [    0/50000]\n",
      "loss: 0.663970  [ 6400/50000]\n",
      "loss: 1.249146  [12800/50000]\n",
      "loss: 1.030214  [19200/50000]\n",
      "loss: 1.244321  [25600/50000]\n",
      "loss: 0.985183  [32000/50000]\n",
      "loss: 0.790186  [38400/50000]\n",
      "loss: 1.245741  [44800/50000]\n",
      "Train Error: \n",
      " Accuracy: 66.1%, Avg loss: 0.014958 \n",
      "\n",
      "Test Error: \n",
      " Accuracy: 63.4%, Avg loss: 0.016219 \n",
      "\n"
     ]
    },
    {
     "data": {
      "text/plain": "<IPython.core.display.HTML object>",
      "text/html": "== Status ==<br>Memory usage on this node: 7.1/15.6 GiB<br>Using FIFO scheduling algorithm.<br>Resources requested: 1/2 CPUs, 1/1 GPUs, 0.0/6.93 GiB heap, 0.0/2.39 GiB objects (0/1.0 accelerator_type:P100)<br>Result logdir: /root/ray_results/my_func_2021-06-17_20-12-02<br>Number of trials: 2/4 (1 PENDING, 1 RUNNING)<br><table>\n<thead>\n<tr><th>Trial name         </th><th>status  </th><th>loc           </th><th style=\"text-align: right;\">        lr</th><th style=\"text-align: right;\">   acc</th><th style=\"text-align: right;\">  iter</th><th style=\"text-align: right;\">  total time (s)</th></tr>\n</thead>\n<tbody>\n<tr><td>my_func_486c8_00000</td><td>RUNNING </td><td>172.19.2.2:164</td><td style=\"text-align: right;\">0.00144876</td><td style=\"text-align: right;\">0.5748</td><td style=\"text-align: right;\">     5</td><td style=\"text-align: right;\">          78.274</td></tr>\n<tr><td>my_func_486c8_00001</td><td>PENDING </td><td>              </td><td style=\"text-align: right;\">0.00015086</td><td style=\"text-align: right;\">      </td><td style=\"text-align: right;\">      </td><td style=\"text-align: right;\">                </td></tr>\n</tbody>\n</table><br><br>"
     },
     "metadata": {},
     "output_type": "display_data"
    },
    {
     "name": "stdout",
     "output_type": "stream",
     "text": [
      "Result for my_func_486c8_00000:\n",
      "  date: 2021-06-17_20-13-41\n",
      "  done: false\n",
      "  experiment_id: de775b5e81d54efca7a62d8e0a92cacb\n",
      "  hostname: 13a89f6488bf\n",
      "  iterations_since_restore: 6\n",
      "  mean_accuracy: 0.6339\n",
      "  node_ip: 172.19.2.2\n",
      "  pid: 164\n",
      "  time_since_restore: 92.40841007232666\n",
      "  time_this_iter_s: 14.134361267089844\n",
      "  time_total_s: 92.40841007232666\n",
      "  timestamp: 1623960821\n",
      "  timesteps_since_restore: 0\n",
      "  training_iteration: 6\n",
      "  trial_id: 486c8_00000\n",
      "  \n",
      "Epoch 7\n",
      "-------------------------------\n",
      "loss: 0.832561  [    0/50000]\n",
      "loss: 1.013557  [ 6400/50000]\n",
      "loss: 0.990827  [12800/50000]\n",
      "loss: 0.945075  [19200/50000]\n",
      "loss: 1.066481  [25600/50000]\n",
      "loss: 1.045682  [32000/50000]\n",
      "loss: 0.980042  [38400/50000]\n",
      "loss: 1.148032  [44800/50000]\n",
      "Train Error: \n",
      " Accuracy: 68.1%, Avg loss: 0.014167 \n",
      "\n",
      "Test Error: \n",
      " Accuracy: 64.6%, Avg loss: 0.015836 \n",
      "\n"
     ]
    },
    {
     "data": {
      "text/plain": "<IPython.core.display.HTML object>",
      "text/html": "== Status ==<br>Memory usage on this node: 7.1/15.6 GiB<br>Using FIFO scheduling algorithm.<br>Resources requested: 1/2 CPUs, 1/1 GPUs, 0.0/6.93 GiB heap, 0.0/2.39 GiB objects (0/1.0 accelerator_type:P100)<br>Result logdir: /root/ray_results/my_func_2021-06-17_20-12-02<br>Number of trials: 2/4 (1 PENDING, 1 RUNNING)<br><table>\n<thead>\n<tr><th>Trial name         </th><th>status  </th><th>loc           </th><th style=\"text-align: right;\">        lr</th><th style=\"text-align: right;\">   acc</th><th style=\"text-align: right;\">  iter</th><th style=\"text-align: right;\">  total time (s)</th></tr>\n</thead>\n<tbody>\n<tr><td>my_func_486c8_00000</td><td>RUNNING </td><td>172.19.2.2:164</td><td style=\"text-align: right;\">0.00144876</td><td style=\"text-align: right;\">0.6339</td><td style=\"text-align: right;\">     6</td><td style=\"text-align: right;\">         92.4084</td></tr>\n<tr><td>my_func_486c8_00001</td><td>PENDING </td><td>              </td><td style=\"text-align: right;\">0.00015086</td><td style=\"text-align: right;\">      </td><td style=\"text-align: right;\">      </td><td style=\"text-align: right;\">                </td></tr>\n</tbody>\n</table><br><br>"
     },
     "metadata": {},
     "output_type": "display_data"
    },
    {
     "name": "stdout",
     "output_type": "stream",
     "text": [
      "Result for my_func_486c8_00000:\n",
      "  date: 2021-06-17_20-13-55\n",
      "  done: false\n",
      "  experiment_id: de775b5e81d54efca7a62d8e0a92cacb\n",
      "  hostname: 13a89f6488bf\n",
      "  iterations_since_restore: 7\n",
      "  mean_accuracy: 0.6457\n",
      "  node_ip: 172.19.2.2\n",
      "  pid: 164\n",
      "  time_since_restore: 106.46661901473999\n",
      "  time_this_iter_s: 14.05820894241333\n",
      "  time_total_s: 106.46661901473999\n",
      "  timestamp: 1623960835\n",
      "  timesteps_since_restore: 0\n",
      "  training_iteration: 7\n",
      "  trial_id: 486c8_00000\n",
      "  \n",
      "Epoch 8\n",
      "-------------------------------\n",
      "loss: 0.679871  [    0/50000]\n",
      "loss: 1.004793  [ 6400/50000]\n",
      "loss: 0.965684  [12800/50000]\n",
      "loss: 0.849092  [19200/50000]\n",
      "loss: 0.937097  [25600/50000]\n",
      "loss: 1.132962  [32000/50000]\n",
      "loss: 1.052433  [38400/50000]\n",
      "loss: 0.860076  [44800/50000]\n",
      "Train Error: \n",
      " Accuracy: 64.7%, Avg loss: 0.015845 \n",
      "\n",
      "Test Error: \n",
      " Accuracy: 62.0%, Avg loss: 0.017728 \n",
      "\n"
     ]
    },
    {
     "data": {
      "text/plain": "<IPython.core.display.HTML object>",
      "text/html": "== Status ==<br>Memory usage on this node: 7.1/15.6 GiB<br>Using FIFO scheduling algorithm.<br>Resources requested: 1/2 CPUs, 1/1 GPUs, 0.0/6.93 GiB heap, 0.0/2.39 GiB objects (0/1.0 accelerator_type:P100)<br>Result logdir: /root/ray_results/my_func_2021-06-17_20-12-02<br>Number of trials: 2/4 (1 PENDING, 1 RUNNING)<br><table>\n<thead>\n<tr><th>Trial name         </th><th>status  </th><th>loc           </th><th style=\"text-align: right;\">        lr</th><th style=\"text-align: right;\">   acc</th><th style=\"text-align: right;\">  iter</th><th style=\"text-align: right;\">  total time (s)</th></tr>\n</thead>\n<tbody>\n<tr><td>my_func_486c8_00000</td><td>RUNNING </td><td>172.19.2.2:164</td><td style=\"text-align: right;\">0.00144876</td><td style=\"text-align: right;\">0.6457</td><td style=\"text-align: right;\">     7</td><td style=\"text-align: right;\">         106.467</td></tr>\n<tr><td>my_func_486c8_00001</td><td>PENDING </td><td>              </td><td style=\"text-align: right;\">0.00015086</td><td style=\"text-align: right;\">      </td><td style=\"text-align: right;\">      </td><td style=\"text-align: right;\">                </td></tr>\n</tbody>\n</table><br><br>"
     },
     "metadata": {},
     "output_type": "display_data"
    },
    {
     "name": "stdout",
     "output_type": "stream",
     "text": [
      "Result for my_func_486c8_00000:\n",
      "  date: 2021-06-17_20-14-10\n",
      "  done: false\n",
      "  experiment_id: de775b5e81d54efca7a62d8e0a92cacb\n",
      "  hostname: 13a89f6488bf\n",
      "  iterations_since_restore: 8\n",
      "  mean_accuracy: 0.6199\n",
      "  node_ip: 172.19.2.2\n",
      "  pid: 164\n",
      "  time_since_restore: 120.8527901172638\n",
      "  time_this_iter_s: 14.386171102523804\n",
      "  time_total_s: 120.8527901172638\n",
      "  timestamp: 1623960850\n",
      "  timesteps_since_restore: 0\n",
      "  training_iteration: 8\n",
      "  trial_id: 486c8_00000\n",
      "  \n",
      "Epoch 9\n",
      "-------------------------------\n",
      "loss: 0.812870  [    0/50000]\n",
      "loss: 0.870841  [ 6400/50000]\n",
      "loss: 1.067625  [12800/50000]\n",
      "loss: 1.041284  [19200/50000]\n",
      "loss: 1.066572  [25600/50000]\n",
      "loss: 1.010195  [32000/50000]\n",
      "loss: 0.866731  [38400/50000]\n",
      "loss: 1.038724  [44800/50000]\n",
      "Train Error: \n",
      " Accuracy: 69.5%, Avg loss: 0.013355 \n",
      "\n",
      "Test Error: \n",
      " Accuracy: 65.5%, Avg loss: 0.015292 \n",
      "\n"
     ]
    },
    {
     "data": {
      "text/plain": "<IPython.core.display.HTML object>",
      "text/html": "== Status ==<br>Memory usage on this node: 7.1/15.6 GiB<br>Using FIFO scheduling algorithm.<br>Resources requested: 1/2 CPUs, 1/1 GPUs, 0.0/6.93 GiB heap, 0.0/2.39 GiB objects (0/1.0 accelerator_type:P100)<br>Result logdir: /root/ray_results/my_func_2021-06-17_20-12-02<br>Number of trials: 2/4 (1 PENDING, 1 RUNNING)<br><table>\n<thead>\n<tr><th>Trial name         </th><th>status  </th><th>loc           </th><th style=\"text-align: right;\">        lr</th><th style=\"text-align: right;\">   acc</th><th style=\"text-align: right;\">  iter</th><th style=\"text-align: right;\">  total time (s)</th></tr>\n</thead>\n<tbody>\n<tr><td>my_func_486c8_00000</td><td>RUNNING </td><td>172.19.2.2:164</td><td style=\"text-align: right;\">0.00144876</td><td style=\"text-align: right;\">0.6199</td><td style=\"text-align: right;\">     8</td><td style=\"text-align: right;\">         120.853</td></tr>\n<tr><td>my_func_486c8_00001</td><td>PENDING </td><td>              </td><td style=\"text-align: right;\">0.00015086</td><td style=\"text-align: right;\">      </td><td style=\"text-align: right;\">      </td><td style=\"text-align: right;\">                </td></tr>\n</tbody>\n</table><br><br>"
     },
     "metadata": {},
     "output_type": "display_data"
    },
    {
     "name": "stderr",
     "output_type": "stream",
     "text": [
      "2021-06-17 20:14:24,327\tWARNING ray_trial_executor.py:593 -- Over the last 60 seconds, the Tune event loop has been backlogged processing new results. Consider increasing your period of result reporting to improve performance.\n"
     ]
    },
    {
     "name": "stdout",
     "output_type": "stream",
     "text": [
      "Result for my_func_486c8_00000:\n",
      "  date: 2021-06-17_20-14-24\n",
      "  done: false\n",
      "  experiment_id: de775b5e81d54efca7a62d8e0a92cacb\n",
      "  hostname: 13a89f6488bf\n",
      "  iterations_since_restore: 9\n",
      "  mean_accuracy: 0.6554\n",
      "  node_ip: 172.19.2.2\n",
      "  pid: 164\n",
      "  time_since_restore: 134.87827849388123\n",
      "  time_this_iter_s: 14.025488376617432\n",
      "  time_total_s: 134.87827849388123\n",
      "  timestamp: 1623960864\n",
      "  timesteps_since_restore: 0\n",
      "  training_iteration: 9\n",
      "  trial_id: 486c8_00000\n",
      "  \n",
      "Epoch 10\n",
      "-------------------------------\n",
      "loss: 0.881301  [    0/50000]\n",
      "loss: 0.842582  [ 6400/50000]\n",
      "loss: 0.749943  [12800/50000]\n",
      "loss: 0.834828  [19200/50000]\n",
      "loss: 0.870288  [25600/50000]\n",
      "loss: 1.265837  [32000/50000]\n",
      "loss: 0.856430  [38400/50000]\n",
      "loss: 1.015928  [44800/50000]\n",
      "Train Error: \n",
      " Accuracy: 69.7%, Avg loss: 0.013397 \n",
      "\n",
      "Test Error: \n",
      " Accuracy: 65.5%, Avg loss: 0.015696 \n",
      "\n"
     ]
    },
    {
     "data": {
      "text/plain": "<IPython.core.display.HTML object>",
      "text/html": "== Status ==<br>Memory usage on this node: 7.1/15.6 GiB<br>Using FIFO scheduling algorithm.<br>Resources requested: 1/2 CPUs, 1/1 GPUs, 0.0/6.93 GiB heap, 0.0/2.39 GiB objects (0/1.0 accelerator_type:P100)<br>Result logdir: /root/ray_results/my_func_2021-06-17_20-12-02<br>Number of trials: 2/4 (1 PENDING, 1 RUNNING)<br><table>\n<thead>\n<tr><th>Trial name         </th><th>status  </th><th>loc           </th><th style=\"text-align: right;\">        lr</th><th style=\"text-align: right;\">   acc</th><th style=\"text-align: right;\">  iter</th><th style=\"text-align: right;\">  total time (s)</th></tr>\n</thead>\n<tbody>\n<tr><td>my_func_486c8_00000</td><td>RUNNING </td><td>172.19.2.2:164</td><td style=\"text-align: right;\">0.00144876</td><td style=\"text-align: right;\">0.6554</td><td style=\"text-align: right;\">     9</td><td style=\"text-align: right;\">         134.878</td></tr>\n<tr><td>my_func_486c8_00001</td><td>PENDING </td><td>              </td><td style=\"text-align: right;\">0.00015086</td><td style=\"text-align: right;\">      </td><td style=\"text-align: right;\">      </td><td style=\"text-align: right;\">                </td></tr>\n</tbody>\n</table><br><br>"
     },
     "metadata": {},
     "output_type": "display_data"
    },
    {
     "name": "stdout",
     "output_type": "stream",
     "text": [
      "Result for my_func_486c8_00000:\n",
      "  date: 2021-06-17_20-14-38\n",
      "  done: false\n",
      "  experiment_id: de775b5e81d54efca7a62d8e0a92cacb\n",
      "  hostname: 13a89f6488bf\n",
      "  iterations_since_restore: 10\n",
      "  mean_accuracy: 0.6552\n",
      "  node_ip: 172.19.2.2\n",
      "  pid: 164\n",
      "  time_since_restore: 149.48405122756958\n",
      "  time_this_iter_s: 14.605772733688354\n",
      "  time_total_s: 149.48405122756958\n",
      "  timestamp: 1623960878\n",
      "  timesteps_since_restore: 0\n",
      "  training_iteration: 10\n",
      "  trial_id: 486c8_00000\n",
      "  \n",
      "Done!\n",
      "Result for my_func_486c8_00000:\n",
      "  date: 2021-06-17_20-14-38\n",
      "  done: true\n",
      "  experiment_id: de775b5e81d54efca7a62d8e0a92cacb\n",
      "  experiment_tag: 0_lr=0.0014488\n",
      "  hostname: 13a89f6488bf\n",
      "  iterations_since_restore: 10\n",
      "  mean_accuracy: 0.6552\n",
      "  node_ip: 172.19.2.2\n",
      "  pid: 164\n",
      "  time_since_restore: 149.48405122756958\n",
      "  time_this_iter_s: 14.605772733688354\n",
      "  time_total_s: 149.48405122756958\n",
      "  timestamp: 1623960878\n",
      "  timesteps_since_restore: 0\n",
      "  training_iteration: 10\n",
      "  trial_id: 486c8_00000\n",
      "  \n",
      "NeuralNetworkCNN(\n",
      "  (conv1): Conv2d(3, 64, kernel_size=(3, 3), stride=(1, 1))\n",
      "  (pool): MaxPool2d(kernel_size=2, stride=2, padding=0, dilation=1, ceil_mode=False)\n",
      "  (conv2): Conv2d(64, 64, kernel_size=(3, 3), stride=(1, 1))\n",
      "  (conv3): Conv2d(64, 128, kernel_size=(3, 3), stride=(1, 1))\n",
      "  (fc1): Linear(in_features=512, out_features=128, bias=True)\n",
      "  (fc2): Linear(in_features=128, out_features=64, bias=True)\n",
      "  (fc3): Linear(in_features=64, out_features=10, bias=True)\n",
      ")\n",
      "Epoch 1\n",
      "-------------------------------\n",
      "loss: 2.303177  [    0/50000]\n",
      "loss: 2.202100  [ 6400/50000]\n",
      "loss: 1.994708  [12800/50000]\n",
      "loss: 1.961982  [19200/50000]\n",
      "loss: 1.817689  [25600/50000]\n",
      "loss: 1.625977  [32000/50000]\n",
      "loss: 1.946381  [38400/50000]\n",
      "loss: 1.694419  [44800/50000]\n",
      "Train Error: \n",
      " Accuracy: 32.7%, Avg loss: 0.027986 \n",
      "\n"
     ]
    },
    {
     "name": "stderr",
     "output_type": "stream",
     "text": [
      "2021-06-17 20:14:54,982\tWARNING util.py:152 -- The `start_trial` operation took 16.039 s, which may be a performance bottleneck.\n"
     ]
    },
    {
     "name": "stdout",
     "output_type": "stream",
     "text": [
      "Test Error: \n",
      " Accuracy: 32.4%, Avg loss: 0.027970 \n",
      "\n"
     ]
    },
    {
     "data": {
      "text/plain": "<IPython.core.display.HTML object>",
      "text/html": "== Status ==<br>Memory usage on this node: 7.3/15.6 GiB<br>Using FIFO scheduling algorithm.<br>Resources requested: 1/2 CPUs, 1/1 GPUs, 0.0/6.93 GiB heap, 0.0/2.39 GiB objects (0/1.0 accelerator_type:P100)<br>Result logdir: /root/ray_results/my_func_2021-06-17_20-12-02<br>Number of trials: 2/4 (1 RUNNING, 1 TERMINATED)<br><table>\n<thead>\n<tr><th>Trial name         </th><th>status    </th><th>loc  </th><th style=\"text-align: right;\">        lr</th><th style=\"text-align: right;\">   acc</th><th style=\"text-align: right;\">  iter</th><th style=\"text-align: right;\">  total time (s)</th></tr>\n</thead>\n<tbody>\n<tr><td>my_func_486c8_00001</td><td>RUNNING   </td><td>     </td><td style=\"text-align: right;\">0.00015086</td><td style=\"text-align: right;\">      </td><td style=\"text-align: right;\">      </td><td style=\"text-align: right;\">                </td></tr>\n<tr><td>my_func_486c8_00000</td><td>TERMINATED</td><td>     </td><td style=\"text-align: right;\">0.00144876</td><td style=\"text-align: right;\">0.6552</td><td style=\"text-align: right;\">    10</td><td style=\"text-align: right;\">         149.484</td></tr>\n</tbody>\n</table><br><br>"
     },
     "metadata": {},
     "output_type": "display_data"
    },
    {
     "name": "stdout",
     "output_type": "stream",
     "text": [
      "Result for my_func_486c8_00001:\n",
      "  date: 2021-06-17_20-14-54\n",
      "  done: false\n",
      "  experiment_id: f1e44a5fcb4f47ee87983e4d5cf487e2\n",
      "  hostname: 13a89f6488bf\n",
      "  iterations_since_restore: 1\n",
      "  mean_accuracy: 0.3239\n",
      "  node_ip: 172.19.2.2\n",
      "  pid: 164\n",
      "  time_since_restore: 13.926991701126099\n",
      "  time_this_iter_s: 13.926991701126099\n",
      "  time_total_s: 13.926991701126099\n",
      "  timestamp: 1623960894\n",
      "  timesteps_since_restore: 0\n",
      "  training_iteration: 1\n",
      "  trial_id: 486c8_00001\n",
      "  \n",
      "Epoch 2\n",
      "-------------------------------\n",
      "loss: 2.064441  [    0/50000]\n",
      "loss: 1.708018  [ 6400/50000]\n",
      "loss: 1.827220  [12800/50000]\n",
      "loss: 1.664628  [19200/50000]\n",
      "loss: 1.698022  [25600/50000]\n",
      "loss: 1.662900  [32000/50000]\n",
      "loss: 1.517527  [38400/50000]\n",
      "loss: 1.559344  [44800/50000]\n",
      "Train Error: \n",
      " Accuracy: 40.2%, Avg loss: 0.025136 \n",
      "\n",
      "Test Error: \n",
      " Accuracy: 40.3%, Avg loss: 0.025262 \n",
      "\n"
     ]
    },
    {
     "data": {
      "text/plain": "<IPython.core.display.HTML object>",
      "text/html": "== Status ==<br>Memory usage on this node: 7.4/15.6 GiB<br>Using FIFO scheduling algorithm.<br>Resources requested: 1/2 CPUs, 1/1 GPUs, 0.0/6.93 GiB heap, 0.0/2.39 GiB objects (0/1.0 accelerator_type:P100)<br>Result logdir: /root/ray_results/my_func_2021-06-17_20-12-02<br>Number of trials: 3/4 (1 PENDING, 1 RUNNING, 1 TERMINATED)<br><table>\n<thead>\n<tr><th>Trial name         </th><th>status    </th><th>loc           </th><th style=\"text-align: right;\">         lr</th><th style=\"text-align: right;\">   acc</th><th style=\"text-align: right;\">  iter</th><th style=\"text-align: right;\">  total time (s)</th></tr>\n</thead>\n<tbody>\n<tr><td>my_func_486c8_00001</td><td>RUNNING   </td><td>172.19.2.2:164</td><td style=\"text-align: right;\">0.00015086 </td><td style=\"text-align: right;\">0.3239</td><td style=\"text-align: right;\">     1</td><td style=\"text-align: right;\">          13.927</td></tr>\n<tr><td>my_func_486c8_00002</td><td>PENDING   </td><td>              </td><td style=\"text-align: right;\">0.000133983</td><td style=\"text-align: right;\">      </td><td style=\"text-align: right;\">      </td><td style=\"text-align: right;\">                </td></tr>\n<tr><td>my_func_486c8_00000</td><td>TERMINATED</td><td>              </td><td style=\"text-align: right;\">0.00144876 </td><td style=\"text-align: right;\">0.6552</td><td style=\"text-align: right;\">    10</td><td style=\"text-align: right;\">         149.484</td></tr>\n</tbody>\n</table><br><br>"
     },
     "metadata": {},
     "output_type": "display_data"
    },
    {
     "name": "stdout",
     "output_type": "stream",
     "text": [
      "Result for my_func_486c8_00001:\n",
      "  date: 2021-06-17_20-15-11\n",
      "  done: false\n",
      "  experiment_id: f1e44a5fcb4f47ee87983e4d5cf487e2\n",
      "  hostname: 13a89f6488bf\n",
      "  iterations_since_restore: 2\n",
      "  mean_accuracy: 0.4027\n",
      "  node_ip: 172.19.2.2\n",
      "  pid: 164\n",
      "  time_since_restore: 29.952406644821167\n",
      "  time_this_iter_s: 16.02541494369507\n",
      "  time_total_s: 29.952406644821167\n",
      "  timestamp: 1623960911\n",
      "  timesteps_since_restore: 0\n",
      "  training_iteration: 2\n",
      "  trial_id: 486c8_00001\n",
      "  \n",
      "Epoch 3\n",
      "-------------------------------\n",
      "loss: 1.449705  [    0/50000]\n",
      "loss: 1.586322  [ 6400/50000]\n",
      "loss: 1.564582  [12800/50000]\n",
      "loss: 1.526768  [19200/50000]\n",
      "loss: 1.702515  [25600/50000]\n",
      "loss: 1.468540  [32000/50000]\n",
      "loss: 1.445337  [38400/50000]\n",
      "loss: 1.401182  [44800/50000]\n",
      "Train Error: \n",
      " Accuracy: 45.1%, Avg loss: 0.023303 \n",
      "\n",
      "Test Error: \n",
      " Accuracy: 45.3%, Avg loss: 0.023375 \n",
      "\n"
     ]
    },
    {
     "data": {
      "text/plain": "<IPython.core.display.HTML object>",
      "text/html": "== Status ==<br>Memory usage on this node: 7.4/15.6 GiB<br>Using FIFO scheduling algorithm.<br>Resources requested: 1/2 CPUs, 1/1 GPUs, 0.0/6.93 GiB heap, 0.0/2.39 GiB objects (0/1.0 accelerator_type:P100)<br>Result logdir: /root/ray_results/my_func_2021-06-17_20-12-02<br>Number of trials: 3/4 (1 PENDING, 1 RUNNING, 1 TERMINATED)<br><table>\n<thead>\n<tr><th>Trial name         </th><th>status    </th><th>loc           </th><th style=\"text-align: right;\">         lr</th><th style=\"text-align: right;\">   acc</th><th style=\"text-align: right;\">  iter</th><th style=\"text-align: right;\">  total time (s)</th></tr>\n</thead>\n<tbody>\n<tr><td>my_func_486c8_00001</td><td>RUNNING   </td><td>172.19.2.2:164</td><td style=\"text-align: right;\">0.00015086 </td><td style=\"text-align: right;\">0.4027</td><td style=\"text-align: right;\">     2</td><td style=\"text-align: right;\">         29.9524</td></tr>\n<tr><td>my_func_486c8_00002</td><td>PENDING   </td><td>              </td><td style=\"text-align: right;\">0.000133983</td><td style=\"text-align: right;\">      </td><td style=\"text-align: right;\">      </td><td style=\"text-align: right;\">                </td></tr>\n<tr><td>my_func_486c8_00000</td><td>TERMINATED</td><td>              </td><td style=\"text-align: right;\">0.00144876 </td><td style=\"text-align: right;\">0.6552</td><td style=\"text-align: right;\">    10</td><td style=\"text-align: right;\">        149.484 </td></tr>\n</tbody>\n</table><br><br>"
     },
     "metadata": {},
     "output_type": "display_data"
    },
    {
     "name": "stderr",
     "output_type": "stream",
     "text": [
      "2021-06-17 20:15:24,935\tWARNING ray_trial_executor.py:593 -- Over the last 60 seconds, the Tune event loop has been backlogged processing new results. Consider increasing your period of result reporting to improve performance.\n"
     ]
    },
    {
     "name": "stdout",
     "output_type": "stream",
     "text": [
      "Result for my_func_486c8_00001:\n",
      "  date: 2021-06-17_20-15-24\n",
      "  done: false\n",
      "  experiment_id: f1e44a5fcb4f47ee87983e4d5cf487e2\n",
      "  hostname: 13a89f6488bf\n",
      "  iterations_since_restore: 3\n",
      "  mean_accuracy: 0.4528\n",
      "  node_ip: 172.19.2.2\n",
      "  pid: 164\n",
      "  time_since_restore: 43.872658252716064\n",
      "  time_this_iter_s: 13.920251607894897\n",
      "  time_total_s: 43.872658252716064\n",
      "  timestamp: 1623960924\n",
      "  timesteps_since_restore: 0\n",
      "  training_iteration: 3\n",
      "  trial_id: 486c8_00001\n",
      "  \n",
      "Epoch 4\n",
      "-------------------------------\n",
      "loss: 1.522450  [    0/50000]\n",
      "loss: 1.619518  [ 6400/50000]\n",
      "loss: 1.372474  [12800/50000]\n",
      "loss: 1.525525  [19200/50000]\n",
      "loss: 1.338982  [25600/50000]\n",
      "loss: 1.540160  [32000/50000]\n",
      "loss: 1.597512  [38400/50000]\n",
      "loss: 1.292656  [44800/50000]\n",
      "Train Error: \n",
      " Accuracy: 47.1%, Avg loss: 0.022515 \n",
      "\n",
      "Test Error: \n",
      " Accuracy: 46.9%, Avg loss: 0.022722 \n",
      "\n"
     ]
    },
    {
     "data": {
      "text/plain": "<IPython.core.display.HTML object>",
      "text/html": "== Status ==<br>Memory usage on this node: 7.4/15.6 GiB<br>Using FIFO scheduling algorithm.<br>Resources requested: 1/2 CPUs, 1/1 GPUs, 0.0/6.93 GiB heap, 0.0/2.39 GiB objects (0/1.0 accelerator_type:P100)<br>Result logdir: /root/ray_results/my_func_2021-06-17_20-12-02<br>Number of trials: 3/4 (1 PENDING, 1 RUNNING, 1 TERMINATED)<br><table>\n<thead>\n<tr><th>Trial name         </th><th>status    </th><th>loc           </th><th style=\"text-align: right;\">         lr</th><th style=\"text-align: right;\">   acc</th><th style=\"text-align: right;\">  iter</th><th style=\"text-align: right;\">  total time (s)</th></tr>\n</thead>\n<tbody>\n<tr><td>my_func_486c8_00001</td><td>RUNNING   </td><td>172.19.2.2:164</td><td style=\"text-align: right;\">0.00015086 </td><td style=\"text-align: right;\">0.4528</td><td style=\"text-align: right;\">     3</td><td style=\"text-align: right;\">         43.8727</td></tr>\n<tr><td>my_func_486c8_00002</td><td>PENDING   </td><td>              </td><td style=\"text-align: right;\">0.000133983</td><td style=\"text-align: right;\">      </td><td style=\"text-align: right;\">      </td><td style=\"text-align: right;\">                </td></tr>\n<tr><td>my_func_486c8_00000</td><td>TERMINATED</td><td>              </td><td style=\"text-align: right;\">0.00144876 </td><td style=\"text-align: right;\">0.6552</td><td style=\"text-align: right;\">    10</td><td style=\"text-align: right;\">        149.484 </td></tr>\n</tbody>\n</table><br><br>"
     },
     "metadata": {},
     "output_type": "display_data"
    },
    {
     "name": "stdout",
     "output_type": "stream",
     "text": [
      "Result for my_func_486c8_00001:\n",
      "  date: 2021-06-17_20-15-39\n",
      "  done: false\n",
      "  experiment_id: f1e44a5fcb4f47ee87983e4d5cf487e2\n",
      "  hostname: 13a89f6488bf\n",
      "  iterations_since_restore: 4\n",
      "  mean_accuracy: 0.4687\n",
      "  node_ip: 172.19.2.2\n",
      "  pid: 164\n",
      "  time_since_restore: 58.032814502716064\n",
      "  time_this_iter_s: 14.16015625\n",
      "  time_total_s: 58.032814502716064\n",
      "  timestamp: 1623960939\n",
      "  timesteps_since_restore: 0\n",
      "  training_iteration: 4\n",
      "  trial_id: 486c8_00001\n",
      "  \n",
      "Epoch 5\n",
      "-------------------------------\n",
      "loss: 1.533759  [    0/50000]\n",
      "loss: 1.466841  [ 6400/50000]\n",
      "loss: 1.077501  [12800/50000]\n",
      "loss: 1.373117  [19200/50000]\n",
      "loss: 1.506583  [25600/50000]\n",
      "loss: 1.445748  [32000/50000]\n",
      "loss: 1.478902  [38400/50000]\n",
      "loss: 1.441884  [44800/50000]\n",
      "Train Error: \n",
      " Accuracy: 50.7%, Avg loss: 0.021209 \n",
      "\n",
      "Test Error: \n",
      " Accuracy: 50.4%, Avg loss: 0.021447 \n",
      "\n"
     ]
    },
    {
     "data": {
      "text/plain": "<IPython.core.display.HTML object>",
      "text/html": "== Status ==<br>Memory usage on this node: 7.4/15.6 GiB<br>Using FIFO scheduling algorithm.<br>Resources requested: 1/2 CPUs, 1/1 GPUs, 0.0/6.93 GiB heap, 0.0/2.39 GiB objects (0/1.0 accelerator_type:P100)<br>Result logdir: /root/ray_results/my_func_2021-06-17_20-12-02<br>Number of trials: 3/4 (1 PENDING, 1 RUNNING, 1 TERMINATED)<br><table>\n<thead>\n<tr><th>Trial name         </th><th>status    </th><th>loc           </th><th style=\"text-align: right;\">         lr</th><th style=\"text-align: right;\">   acc</th><th style=\"text-align: right;\">  iter</th><th style=\"text-align: right;\">  total time (s)</th></tr>\n</thead>\n<tbody>\n<tr><td>my_func_486c8_00001</td><td>RUNNING   </td><td>172.19.2.2:164</td><td style=\"text-align: right;\">0.00015086 </td><td style=\"text-align: right;\">0.4687</td><td style=\"text-align: right;\">     4</td><td style=\"text-align: right;\">         58.0328</td></tr>\n<tr><td>my_func_486c8_00002</td><td>PENDING   </td><td>              </td><td style=\"text-align: right;\">0.000133983</td><td style=\"text-align: right;\">      </td><td style=\"text-align: right;\">      </td><td style=\"text-align: right;\">                </td></tr>\n<tr><td>my_func_486c8_00000</td><td>TERMINATED</td><td>              </td><td style=\"text-align: right;\">0.00144876 </td><td style=\"text-align: right;\">0.6552</td><td style=\"text-align: right;\">    10</td><td style=\"text-align: right;\">        149.484 </td></tr>\n</tbody>\n</table><br><br>"
     },
     "metadata": {},
     "output_type": "display_data"
    },
    {
     "name": "stdout",
     "output_type": "stream",
     "text": [
      "Result for my_func_486c8_00001:\n",
      "  date: 2021-06-17_20-15-53\n",
      "  done: false\n",
      "  experiment_id: f1e44a5fcb4f47ee87983e4d5cf487e2\n",
      "  hostname: 13a89f6488bf\n",
      "  iterations_since_restore: 5\n",
      "  mean_accuracy: 0.5036\n",
      "  node_ip: 172.19.2.2\n",
      "  pid: 164\n",
      "  time_since_restore: 71.97110939025879\n",
      "  time_this_iter_s: 13.938294887542725\n",
      "  time_total_s: 71.97110939025879\n",
      "  timestamp: 1623960953\n",
      "  timesteps_since_restore: 0\n",
      "  training_iteration: 5\n",
      "  trial_id: 486c8_00001\n",
      "  \n",
      "Epoch 6\n",
      "-------------------------------\n",
      "loss: 1.342269  [    0/50000]\n",
      "loss: 1.096844  [ 6400/50000]\n",
      "loss: 1.684620  [12800/50000]\n",
      "loss: 1.142107  [19200/50000]\n",
      "loss: 1.291752  [25600/50000]\n",
      "loss: 1.163661  [32000/50000]\n",
      "loss: 1.149868  [38400/50000]\n",
      "loss: 1.373239  [44800/50000]\n",
      "Train Error: \n",
      " Accuracy: 52.4%, Avg loss: 0.020412 \n",
      "\n",
      "Test Error: \n",
      " Accuracy: 52.1%, Avg loss: 0.020691 \n",
      "\n"
     ]
    },
    {
     "data": {
      "text/plain": "<IPython.core.display.HTML object>",
      "text/html": "== Status ==<br>Memory usage on this node: 7.4/15.6 GiB<br>Using FIFO scheduling algorithm.<br>Resources requested: 1/2 CPUs, 1/1 GPUs, 0.0/6.93 GiB heap, 0.0/2.39 GiB objects (0/1.0 accelerator_type:P100)<br>Result logdir: /root/ray_results/my_func_2021-06-17_20-12-02<br>Number of trials: 3/4 (1 PENDING, 1 RUNNING, 1 TERMINATED)<br><table>\n<thead>\n<tr><th>Trial name         </th><th>status    </th><th>loc           </th><th style=\"text-align: right;\">         lr</th><th style=\"text-align: right;\">   acc</th><th style=\"text-align: right;\">  iter</th><th style=\"text-align: right;\">  total time (s)</th></tr>\n</thead>\n<tbody>\n<tr><td>my_func_486c8_00001</td><td>RUNNING   </td><td>172.19.2.2:164</td><td style=\"text-align: right;\">0.00015086 </td><td style=\"text-align: right;\">0.5036</td><td style=\"text-align: right;\">     5</td><td style=\"text-align: right;\">         71.9711</td></tr>\n<tr><td>my_func_486c8_00002</td><td>PENDING   </td><td>              </td><td style=\"text-align: right;\">0.000133983</td><td style=\"text-align: right;\">      </td><td style=\"text-align: right;\">      </td><td style=\"text-align: right;\">                </td></tr>\n<tr><td>my_func_486c8_00000</td><td>TERMINATED</td><td>              </td><td style=\"text-align: right;\">0.00144876 </td><td style=\"text-align: right;\">0.6552</td><td style=\"text-align: right;\">    10</td><td style=\"text-align: right;\">        149.484 </td></tr>\n</tbody>\n</table><br><br>"
     },
     "metadata": {},
     "output_type": "display_data"
    },
    {
     "name": "stdout",
     "output_type": "stream",
     "text": [
      "Result for my_func_486c8_00001:\n",
      "  date: 2021-06-17_20-16-07\n",
      "  done: false\n",
      "  experiment_id: f1e44a5fcb4f47ee87983e4d5cf487e2\n",
      "  hostname: 13a89f6488bf\n",
      "  iterations_since_restore: 6\n",
      "  mean_accuracy: 0.5215\n",
      "  node_ip: 172.19.2.2\n",
      "  pid: 164\n",
      "  time_since_restore: 86.39958095550537\n",
      "  time_this_iter_s: 14.428471565246582\n",
      "  time_total_s: 86.39958095550537\n",
      "  timestamp: 1623960967\n",
      "  timesteps_since_restore: 0\n",
      "  training_iteration: 6\n",
      "  trial_id: 486c8_00001\n",
      "  \n",
      "Epoch 7\n",
      "-------------------------------\n",
      "loss: 1.538493  [    0/50000]\n",
      "loss: 1.398987  [ 6400/50000]\n",
      "loss: 1.461925  [12800/50000]\n",
      "loss: 1.460194  [19200/50000]\n",
      "loss: 1.445571  [25600/50000]\n",
      "loss: 1.348862  [32000/50000]\n",
      "loss: 1.615700  [38400/50000]\n",
      "loss: 1.364462  [44800/50000]\n",
      "Train Error: \n",
      " Accuracy: 54.3%, Avg loss: 0.019845 \n",
      "\n",
      "Test Error: \n",
      " Accuracy: 54.0%, Avg loss: 0.020153 \n",
      "\n"
     ]
    },
    {
     "data": {
      "text/plain": "<IPython.core.display.HTML object>",
      "text/html": "== Status ==<br>Memory usage on this node: 7.3/15.6 GiB<br>Using FIFO scheduling algorithm.<br>Resources requested: 1/2 CPUs, 1/1 GPUs, 0.0/6.93 GiB heap, 0.0/2.39 GiB objects (0/1.0 accelerator_type:P100)<br>Result logdir: /root/ray_results/my_func_2021-06-17_20-12-02<br>Number of trials: 3/4 (1 PENDING, 1 RUNNING, 1 TERMINATED)<br><table>\n<thead>\n<tr><th>Trial name         </th><th>status    </th><th>loc           </th><th style=\"text-align: right;\">         lr</th><th style=\"text-align: right;\">   acc</th><th style=\"text-align: right;\">  iter</th><th style=\"text-align: right;\">  total time (s)</th></tr>\n</thead>\n<tbody>\n<tr><td>my_func_486c8_00001</td><td>RUNNING   </td><td>172.19.2.2:164</td><td style=\"text-align: right;\">0.00015086 </td><td style=\"text-align: right;\">0.5215</td><td style=\"text-align: right;\">     6</td><td style=\"text-align: right;\">         86.3996</td></tr>\n<tr><td>my_func_486c8_00002</td><td>PENDING   </td><td>              </td><td style=\"text-align: right;\">0.000133983</td><td style=\"text-align: right;\">      </td><td style=\"text-align: right;\">      </td><td style=\"text-align: right;\">                </td></tr>\n<tr><td>my_func_486c8_00000</td><td>TERMINATED</td><td>              </td><td style=\"text-align: right;\">0.00144876 </td><td style=\"text-align: right;\">0.6552</td><td style=\"text-align: right;\">    10</td><td style=\"text-align: right;\">        149.484 </td></tr>\n</tbody>\n</table><br><br>"
     },
     "metadata": {},
     "output_type": "display_data"
    },
    {
     "name": "stdout",
     "output_type": "stream",
     "text": [
      "Result for my_func_486c8_00001:\n",
      "  date: 2021-06-17_20-16-21\n",
      "  done: false\n",
      "  experiment_id: f1e44a5fcb4f47ee87983e4d5cf487e2\n",
      "  hostname: 13a89f6488bf\n",
      "  iterations_since_restore: 7\n",
      "  mean_accuracy: 0.5403\n",
      "  node_ip: 172.19.2.2\n",
      "  pid: 164\n",
      "  time_since_restore: 100.70782160758972\n",
      "  time_this_iter_s: 14.30824065208435\n",
      "  time_total_s: 100.70782160758972\n",
      "  timestamp: 1623960981\n",
      "  timesteps_since_restore: 0\n",
      "  training_iteration: 7\n",
      "  trial_id: 486c8_00001\n",
      "  \n",
      "Epoch 8\n",
      "-------------------------------\n",
      "loss: 1.360772  [    0/50000]\n",
      "loss: 1.326994  [ 6400/50000]\n",
      "loss: 1.097003  [12800/50000]\n",
      "loss: 1.283254  [19200/50000]\n",
      "loss: 1.299934  [25600/50000]\n",
      "loss: 1.152914  [32000/50000]\n",
      "loss: 1.255196  [38400/50000]\n",
      "loss: 1.285046  [44800/50000]\n",
      "Train Error: \n",
      " Accuracy: 55.6%, Avg loss: 0.019312 \n",
      "\n",
      "Test Error: \n",
      " Accuracy: 54.5%, Avg loss: 0.019795 \n",
      "\n"
     ]
    },
    {
     "data": {
      "text/plain": "<IPython.core.display.HTML object>",
      "text/html": "== Status ==<br>Memory usage on this node: 7.3/15.6 GiB<br>Using FIFO scheduling algorithm.<br>Resources requested: 1/2 CPUs, 1/1 GPUs, 0.0/6.93 GiB heap, 0.0/2.39 GiB objects (0/1.0 accelerator_type:P100)<br>Result logdir: /root/ray_results/my_func_2021-06-17_20-12-02<br>Number of trials: 3/4 (1 PENDING, 1 RUNNING, 1 TERMINATED)<br><table>\n<thead>\n<tr><th>Trial name         </th><th>status    </th><th>loc           </th><th style=\"text-align: right;\">         lr</th><th style=\"text-align: right;\">   acc</th><th style=\"text-align: right;\">  iter</th><th style=\"text-align: right;\">  total time (s)</th></tr>\n</thead>\n<tbody>\n<tr><td>my_func_486c8_00001</td><td>RUNNING   </td><td>172.19.2.2:164</td><td style=\"text-align: right;\">0.00015086 </td><td style=\"text-align: right;\">0.5403</td><td style=\"text-align: right;\">     7</td><td style=\"text-align: right;\">         100.708</td></tr>\n<tr><td>my_func_486c8_00002</td><td>PENDING   </td><td>              </td><td style=\"text-align: right;\">0.000133983</td><td style=\"text-align: right;\">      </td><td style=\"text-align: right;\">      </td><td style=\"text-align: right;\">                </td></tr>\n<tr><td>my_func_486c8_00000</td><td>TERMINATED</td><td>              </td><td style=\"text-align: right;\">0.00144876 </td><td style=\"text-align: right;\">0.6552</td><td style=\"text-align: right;\">    10</td><td style=\"text-align: right;\">         149.484</td></tr>\n</tbody>\n</table><br><br>"
     },
     "metadata": {},
     "output_type": "display_data"
    },
    {
     "name": "stderr",
     "output_type": "stream",
     "text": [
      "2021-06-17 20:16:35,696\tWARNING ray_trial_executor.py:593 -- Over the last 60 seconds, the Tune event loop has been backlogged processing new results. Consider increasing your period of result reporting to improve performance.\n"
     ]
    },
    {
     "name": "stdout",
     "output_type": "stream",
     "text": [
      "Result for my_func_486c8_00001:\n",
      "  date: 2021-06-17_20-16-35\n",
      "  done: false\n",
      "  experiment_id: f1e44a5fcb4f47ee87983e4d5cf487e2\n",
      "  hostname: 13a89f6488bf\n",
      "  iterations_since_restore: 8\n",
      "  mean_accuracy: 0.545\n",
      "  node_ip: 172.19.2.2\n",
      "  pid: 164\n",
      "  time_since_restore: 114.6356770992279\n",
      "  time_this_iter_s: 13.927855491638184\n",
      "  time_total_s: 114.6356770992279\n",
      "  timestamp: 1623960995\n",
      "  timesteps_since_restore: 0\n",
      "  training_iteration: 8\n",
      "  trial_id: 486c8_00001\n",
      "  \n",
      "Epoch 9\n",
      "-------------------------------\n",
      "loss: 1.441903  [    0/50000]\n",
      "loss: 1.298777  [ 6400/50000]\n",
      "loss: 1.221958  [12800/50000]\n",
      "loss: 1.150984  [19200/50000]\n",
      "loss: 1.167912  [25600/50000]\n",
      "loss: 0.953725  [32000/50000]\n",
      "loss: 1.057710  [38400/50000]\n",
      "loss: 1.166539  [44800/50000]\n",
      "Train Error: \n",
      " Accuracy: 57.5%, Avg loss: 0.018754 \n",
      "\n",
      "Test Error: \n",
      " Accuracy: 56.4%, Avg loss: 0.019296 \n",
      "\n"
     ]
    },
    {
     "data": {
      "text/plain": "<IPython.core.display.HTML object>",
      "text/html": "== Status ==<br>Memory usage on this node: 7.3/15.6 GiB<br>Using FIFO scheduling algorithm.<br>Resources requested: 1/2 CPUs, 1/1 GPUs, 0.0/6.93 GiB heap, 0.0/2.39 GiB objects (0/1.0 accelerator_type:P100)<br>Result logdir: /root/ray_results/my_func_2021-06-17_20-12-02<br>Number of trials: 3/4 (1 PENDING, 1 RUNNING, 1 TERMINATED)<br><table>\n<thead>\n<tr><th>Trial name         </th><th>status    </th><th>loc           </th><th style=\"text-align: right;\">         lr</th><th style=\"text-align: right;\">   acc</th><th style=\"text-align: right;\">  iter</th><th style=\"text-align: right;\">  total time (s)</th></tr>\n</thead>\n<tbody>\n<tr><td>my_func_486c8_00001</td><td>RUNNING   </td><td>172.19.2.2:164</td><td style=\"text-align: right;\">0.00015086 </td><td style=\"text-align: right;\">0.545 </td><td style=\"text-align: right;\">     8</td><td style=\"text-align: right;\">         114.636</td></tr>\n<tr><td>my_func_486c8_00002</td><td>PENDING   </td><td>              </td><td style=\"text-align: right;\">0.000133983</td><td style=\"text-align: right;\">      </td><td style=\"text-align: right;\">      </td><td style=\"text-align: right;\">                </td></tr>\n<tr><td>my_func_486c8_00000</td><td>TERMINATED</td><td>              </td><td style=\"text-align: right;\">0.00144876 </td><td style=\"text-align: right;\">0.6552</td><td style=\"text-align: right;\">    10</td><td style=\"text-align: right;\">         149.484</td></tr>\n</tbody>\n</table><br><br>"
     },
     "metadata": {},
     "output_type": "display_data"
    },
    {
     "name": "stdout",
     "output_type": "stream",
     "text": [
      "Result for my_func_486c8_00001:\n",
      "  date: 2021-06-17_20-16-50\n",
      "  done: false\n",
      "  experiment_id: f1e44a5fcb4f47ee87983e4d5cf487e2\n",
      "  hostname: 13a89f6488bf\n",
      "  iterations_since_restore: 9\n",
      "  mean_accuracy: 0.5643\n",
      "  node_ip: 172.19.2.2\n",
      "  pid: 164\n",
      "  time_since_restore: 129.43037009239197\n",
      "  time_this_iter_s: 14.794692993164062\n",
      "  time_total_s: 129.43037009239197\n",
      "  timestamp: 1623961010\n",
      "  timesteps_since_restore: 0\n",
      "  training_iteration: 9\n",
      "  trial_id: 486c8_00001\n",
      "  \n",
      "Epoch 10\n",
      "-------------------------------\n",
      "loss: 1.116787  [    0/50000]\n",
      "loss: 1.156552  [ 6400/50000]\n",
      "loss: 1.171312  [12800/50000]\n",
      "loss: 1.001464  [19200/50000]\n",
      "loss: 1.007117  [25600/50000]\n",
      "loss: 1.151894  [32000/50000]\n",
      "loss: 1.264590  [38400/50000]\n",
      "loss: 1.159093  [44800/50000]\n",
      "Train Error: \n",
      " Accuracy: 58.1%, Avg loss: 0.018385 \n",
      "\n",
      "Test Error: \n",
      " Accuracy: 56.9%, Avg loss: 0.018962 \n",
      "\n"
     ]
    },
    {
     "data": {
      "text/plain": "<IPython.core.display.HTML object>",
      "text/html": "== Status ==<br>Memory usage on this node: 7.3/15.6 GiB<br>Using FIFO scheduling algorithm.<br>Resources requested: 1/2 CPUs, 1/1 GPUs, 0.0/6.93 GiB heap, 0.0/2.39 GiB objects (0/1.0 accelerator_type:P100)<br>Result logdir: /root/ray_results/my_func_2021-06-17_20-12-02<br>Number of trials: 3/4 (1 PENDING, 1 RUNNING, 1 TERMINATED)<br><table>\n<thead>\n<tr><th>Trial name         </th><th>status    </th><th>loc           </th><th style=\"text-align: right;\">         lr</th><th style=\"text-align: right;\">   acc</th><th style=\"text-align: right;\">  iter</th><th style=\"text-align: right;\">  total time (s)</th></tr>\n</thead>\n<tbody>\n<tr><td>my_func_486c8_00001</td><td>RUNNING   </td><td>172.19.2.2:164</td><td style=\"text-align: right;\">0.00015086 </td><td style=\"text-align: right;\">0.5643</td><td style=\"text-align: right;\">     9</td><td style=\"text-align: right;\">         129.43 </td></tr>\n<tr><td>my_func_486c8_00002</td><td>PENDING   </td><td>              </td><td style=\"text-align: right;\">0.000133983</td><td style=\"text-align: right;\">      </td><td style=\"text-align: right;\">      </td><td style=\"text-align: right;\">                </td></tr>\n<tr><td>my_func_486c8_00000</td><td>TERMINATED</td><td>              </td><td style=\"text-align: right;\">0.00144876 </td><td style=\"text-align: right;\">0.6552</td><td style=\"text-align: right;\">    10</td><td style=\"text-align: right;\">         149.484</td></tr>\n</tbody>\n</table><br><br>"
     },
     "metadata": {},
     "output_type": "display_data"
    },
    {
     "name": "stdout",
     "output_type": "stream",
     "text": [
      "Result for my_func_486c8_00001:\n",
      "  date: 2021-06-17_20-17-04\n",
      "  done: false\n",
      "  experiment_id: f1e44a5fcb4f47ee87983e4d5cf487e2\n",
      "  hostname: 13a89f6488bf\n",
      "  iterations_since_restore: 10\n",
      "  mean_accuracy: 0.5694\n",
      "  node_ip: 172.19.2.2\n",
      "  pid: 164\n",
      "  time_since_restore: 143.3381118774414\n",
      "  time_this_iter_s: 13.907741785049438\n",
      "  time_total_s: 143.3381118774414\n",
      "  timestamp: 1623961024\n",
      "  timesteps_since_restore: 0\n",
      "  training_iteration: 10\n",
      "  trial_id: 486c8_00001\n",
      "  \n",
      "Done!\n",
      "Result for my_func_486c8_00001:\n",
      "  date: 2021-06-17_20-17-04\n",
      "  done: true\n",
      "  experiment_id: f1e44a5fcb4f47ee87983e4d5cf487e2\n",
      "  experiment_tag: 1_lr=0.00015086\n",
      "  hostname: 13a89f6488bf\n",
      "  iterations_since_restore: 10\n",
      "  mean_accuracy: 0.5694\n",
      "  node_ip: 172.19.2.2\n",
      "  pid: 164\n",
      "  time_since_restore: 143.3381118774414\n",
      "  time_this_iter_s: 13.907741785049438\n",
      "  time_total_s: 143.3381118774414\n",
      "  timestamp: 1623961024\n",
      "  timesteps_since_restore: 0\n",
      "  training_iteration: 10\n",
      "  trial_id: 486c8_00001\n",
      "  \n",
      "NeuralNetworkCNN(\n",
      "  (conv1): Conv2d(3, 64, kernel_size=(3, 3), stride=(1, 1))\n",
      "  (pool): MaxPool2d(kernel_size=2, stride=2, padding=0, dilation=1, ceil_mode=False)\n",
      "  (conv2): Conv2d(64, 64, kernel_size=(3, 3), stride=(1, 1))\n",
      "  (conv3): Conv2d(64, 128, kernel_size=(3, 3), stride=(1, 1))\n",
      "  (fc1): Linear(in_features=512, out_features=128, bias=True)\n",
      "  (fc2): Linear(in_features=128, out_features=64, bias=True)\n",
      "  (fc3): Linear(in_features=64, out_features=10, bias=True)\n",
      ")\n",
      "Epoch 1\n",
      "-------------------------------\n",
      "loss: 2.290859  [    0/50000]\n",
      "loss: 2.239119  [ 6400/50000]\n",
      "loss: 2.084393  [12800/50000]\n",
      "loss: 2.004961  [19200/50000]\n",
      "loss: 1.934909  [25600/50000]\n",
      "loss: 1.922700  [32000/50000]\n",
      "loss: 1.735035  [38400/50000]\n",
      "loss: 1.665092  [44800/50000]\n",
      "Train Error: \n",
      " Accuracy: 34.8%, Avg loss: 0.027672 \n",
      "\n"
     ]
    },
    {
     "name": "stderr",
     "output_type": "stream",
     "text": [
      "2021-06-17 20:17:20,561\tWARNING util.py:152 -- The `start_trial` operation took 16.149 s, which may be a performance bottleneck.\n"
     ]
    },
    {
     "name": "stdout",
     "output_type": "stream",
     "text": [
      "Test Error: \n",
      " Accuracy: 35.2%, Avg loss: 0.027606 \n",
      "\n"
     ]
    },
    {
     "data": {
      "text/plain": "<IPython.core.display.HTML object>",
      "text/html": "== Status ==<br>Memory usage on this node: 7.4/15.6 GiB<br>Using FIFO scheduling algorithm.<br>Resources requested: 1/2 CPUs, 1/1 GPUs, 0.0/6.93 GiB heap, 0.0/2.39 GiB objects (0/1.0 accelerator_type:P100)<br>Result logdir: /root/ray_results/my_func_2021-06-17_20-12-02<br>Number of trials: 3/4 (1 RUNNING, 2 TERMINATED)<br><table>\n<thead>\n<tr><th>Trial name         </th><th>status    </th><th>loc  </th><th style=\"text-align: right;\">         lr</th><th style=\"text-align: right;\">   acc</th><th style=\"text-align: right;\">  iter</th><th style=\"text-align: right;\">  total time (s)</th></tr>\n</thead>\n<tbody>\n<tr><td>my_func_486c8_00002</td><td>RUNNING   </td><td>     </td><td style=\"text-align: right;\">0.000133983</td><td style=\"text-align: right;\">      </td><td style=\"text-align: right;\">      </td><td style=\"text-align: right;\">                </td></tr>\n<tr><td>my_func_486c8_00000</td><td>TERMINATED</td><td>     </td><td style=\"text-align: right;\">0.00144876 </td><td style=\"text-align: right;\">0.6552</td><td style=\"text-align: right;\">    10</td><td style=\"text-align: right;\">         149.484</td></tr>\n<tr><td>my_func_486c8_00001</td><td>TERMINATED</td><td>     </td><td style=\"text-align: right;\">0.00015086 </td><td style=\"text-align: right;\">0.5694</td><td style=\"text-align: right;\">    10</td><td style=\"text-align: right;\">         143.338</td></tr>\n</tbody>\n</table><br><br>"
     },
     "metadata": {},
     "output_type": "display_data"
    },
    {
     "name": "stdout",
     "output_type": "stream",
     "text": [
      "Result for my_func_486c8_00002:\n",
      "  date: 2021-06-17_20-17-20\n",
      "  done: false\n",
      "  experiment_id: 21c738b99232444e8c8950182b9f8bb6\n",
      "  hostname: 13a89f6488bf\n",
      "  iterations_since_restore: 1\n",
      "  mean_accuracy: 0.352\n",
      "  node_ip: 172.19.2.2\n",
      "  pid: 164\n",
      "  time_since_restore: 14.184521436691284\n",
      "  time_this_iter_s: 14.184521436691284\n",
      "  time_total_s: 14.184521436691284\n",
      "  timestamp: 1623961040\n",
      "  timesteps_since_restore: 0\n",
      "  training_iteration: 1\n",
      "  trial_id: 486c8_00002\n",
      "  \n",
      "Epoch 2\n",
      "-------------------------------\n",
      "loss: 1.781212  [    0/50000]\n",
      "loss: 1.800040  [ 6400/50000]\n",
      "loss: 1.689171  [12800/50000]\n",
      "loss: 1.859542  [19200/50000]\n",
      "loss: 1.750255  [25600/50000]\n",
      "loss: 1.770463  [32000/50000]\n",
      "loss: 1.851396  [38400/50000]\n",
      "loss: 1.651643  [44800/50000]\n",
      "Train Error: \n",
      " Accuracy: 39.2%, Avg loss: 0.025950 \n",
      "\n",
      "Test Error: \n",
      " Accuracy: 39.3%, Avg loss: 0.026041 \n",
      "\n"
     ]
    },
    {
     "data": {
      "text/plain": "<IPython.core.display.HTML object>",
      "text/html": "== Status ==<br>Memory usage on this node: 7.6/15.6 GiB<br>Using FIFO scheduling algorithm.<br>Resources requested: 1/2 CPUs, 1/1 GPUs, 0.0/6.93 GiB heap, 0.0/2.39 GiB objects (0/1.0 accelerator_type:P100)<br>Result logdir: /root/ray_results/my_func_2021-06-17_20-12-02<br>Number of trials: 4/4 (1 PENDING, 1 RUNNING, 2 TERMINATED)<br><table>\n<thead>\n<tr><th>Trial name         </th><th>status    </th><th>loc           </th><th style=\"text-align: right;\">         lr</th><th style=\"text-align: right;\">   acc</th><th style=\"text-align: right;\">  iter</th><th style=\"text-align: right;\">  total time (s)</th></tr>\n</thead>\n<tbody>\n<tr><td>my_func_486c8_00002</td><td>RUNNING   </td><td>172.19.2.2:164</td><td style=\"text-align: right;\">0.000133983</td><td style=\"text-align: right;\">0.352 </td><td style=\"text-align: right;\">     1</td><td style=\"text-align: right;\">         14.1845</td></tr>\n<tr><td>my_func_486c8_00003</td><td>PENDING   </td><td>              </td><td style=\"text-align: right;\">0.00855231 </td><td style=\"text-align: right;\">      </td><td style=\"text-align: right;\">      </td><td style=\"text-align: right;\">                </td></tr>\n<tr><td>my_func_486c8_00000</td><td>TERMINATED</td><td>              </td><td style=\"text-align: right;\">0.00144876 </td><td style=\"text-align: right;\">0.6552</td><td style=\"text-align: right;\">    10</td><td style=\"text-align: right;\">        149.484 </td></tr>\n<tr><td>my_func_486c8_00001</td><td>TERMINATED</td><td>              </td><td style=\"text-align: right;\">0.00015086 </td><td style=\"text-align: right;\">0.5694</td><td style=\"text-align: right;\">    10</td><td style=\"text-align: right;\">        143.338 </td></tr>\n</tbody>\n</table><br><br>"
     },
     "metadata": {},
     "output_type": "display_data"
    },
    {
     "name": "stderr",
     "output_type": "stream",
     "text": [
      "2021-06-17 20:17:36,186\tWARNING ray_trial_executor.py:593 -- Over the last 60 seconds, the Tune event loop has been backlogged processing new results. Consider increasing your period of result reporting to improve performance.\n"
     ]
    },
    {
     "name": "stdout",
     "output_type": "stream",
     "text": [
      "Result for my_func_486c8_00002:\n",
      "  date: 2021-06-17_20-17-36\n",
      "  done: false\n",
      "  experiment_id: 21c738b99232444e8c8950182b9f8bb6\n",
      "  hostname: 13a89f6488bf\n",
      "  iterations_since_restore: 2\n",
      "  mean_accuracy: 0.3927\n",
      "  node_ip: 172.19.2.2\n",
      "  pid: 164\n",
      "  time_since_restore: 29.802721738815308\n",
      "  time_this_iter_s: 15.618200302124023\n",
      "  time_total_s: 29.802721738815308\n",
      "  timestamp: 1623961056\n",
      "  timesteps_since_restore: 0\n",
      "  training_iteration: 2\n",
      "  trial_id: 486c8_00002\n",
      "  \n",
      "Epoch 3\n",
      "-------------------------------\n",
      "loss: 1.664874  [    0/50000]\n",
      "loss: 1.593416  [ 6400/50000]\n",
      "loss: 1.555577  [12800/50000]\n",
      "loss: 1.454284  [19200/50000]\n",
      "loss: 1.524903  [25600/50000]\n",
      "loss: 1.332575  [32000/50000]\n",
      "loss: 1.592536  [38400/50000]\n",
      "loss: 1.410231  [44800/50000]\n",
      "Train Error: \n",
      " Accuracy: 44.3%, Avg loss: 0.023696 \n",
      "\n",
      "Test Error: \n",
      " Accuracy: 44.7%, Avg loss: 0.023820 \n",
      "\n"
     ]
    },
    {
     "data": {
      "text/plain": "<IPython.core.display.HTML object>",
      "text/html": "== Status ==<br>Memory usage on this node: 7.6/15.6 GiB<br>Using FIFO scheduling algorithm.<br>Resources requested: 1/2 CPUs, 1/1 GPUs, 0.0/6.93 GiB heap, 0.0/2.39 GiB objects (0/1.0 accelerator_type:P100)<br>Result logdir: /root/ray_results/my_func_2021-06-17_20-12-02<br>Number of trials: 4/4 (1 PENDING, 1 RUNNING, 2 TERMINATED)<br><table>\n<thead>\n<tr><th>Trial name         </th><th>status    </th><th>loc           </th><th style=\"text-align: right;\">         lr</th><th style=\"text-align: right;\">   acc</th><th style=\"text-align: right;\">  iter</th><th style=\"text-align: right;\">  total time (s)</th></tr>\n</thead>\n<tbody>\n<tr><td>my_func_486c8_00002</td><td>RUNNING   </td><td>172.19.2.2:164</td><td style=\"text-align: right;\">0.000133983</td><td style=\"text-align: right;\">0.3927</td><td style=\"text-align: right;\">     2</td><td style=\"text-align: right;\">         29.8027</td></tr>\n<tr><td>my_func_486c8_00003</td><td>PENDING   </td><td>              </td><td style=\"text-align: right;\">0.00855231 </td><td style=\"text-align: right;\">      </td><td style=\"text-align: right;\">      </td><td style=\"text-align: right;\">                </td></tr>\n<tr><td>my_func_486c8_00000</td><td>TERMINATED</td><td>              </td><td style=\"text-align: right;\">0.00144876 </td><td style=\"text-align: right;\">0.6552</td><td style=\"text-align: right;\">    10</td><td style=\"text-align: right;\">        149.484 </td></tr>\n<tr><td>my_func_486c8_00001</td><td>TERMINATED</td><td>              </td><td style=\"text-align: right;\">0.00015086 </td><td style=\"text-align: right;\">0.5694</td><td style=\"text-align: right;\">    10</td><td style=\"text-align: right;\">        143.338 </td></tr>\n</tbody>\n</table><br><br>"
     },
     "metadata": {},
     "output_type": "display_data"
    },
    {
     "name": "stdout",
     "output_type": "stream",
     "text": [
      "Result for my_func_486c8_00002:\n",
      "  date: 2021-06-17_20-17-50\n",
      "  done: false\n",
      "  experiment_id: 21c738b99232444e8c8950182b9f8bb6\n",
      "  hostname: 13a89f6488bf\n",
      "  iterations_since_restore: 3\n",
      "  mean_accuracy: 0.4466\n",
      "  node_ip: 172.19.2.2\n",
      "  pid: 164\n",
      "  time_since_restore: 44.12222337722778\n",
      "  time_this_iter_s: 14.319501638412476\n",
      "  time_total_s: 44.12222337722778\n",
      "  timestamp: 1623961070\n",
      "  timesteps_since_restore: 0\n",
      "  training_iteration: 3\n",
      "  trial_id: 486c8_00002\n",
      "  \n",
      "Epoch 4\n",
      "-------------------------------\n",
      "loss: 1.609044  [    0/50000]\n",
      "loss: 1.517816  [ 6400/50000]\n",
      "loss: 1.658928  [12800/50000]\n",
      "loss: 1.373653  [19200/50000]\n",
      "loss: 1.547266  [25600/50000]\n",
      "loss: 1.421107  [32000/50000]\n",
      "loss: 1.469688  [38400/50000]\n",
      "loss: 1.470014  [44800/50000]\n",
      "Train Error: \n",
      " Accuracy: 47.3%, Avg loss: 0.022641 \n",
      "\n",
      "Test Error: \n",
      " Accuracy: 47.2%, Avg loss: 0.022785 \n",
      "\n"
     ]
    },
    {
     "data": {
      "text/plain": "<IPython.core.display.HTML object>",
      "text/html": "== Status ==<br>Memory usage on this node: 7.6/15.6 GiB<br>Using FIFO scheduling algorithm.<br>Resources requested: 1/2 CPUs, 1/1 GPUs, 0.0/6.93 GiB heap, 0.0/2.39 GiB objects (0/1.0 accelerator_type:P100)<br>Result logdir: /root/ray_results/my_func_2021-06-17_20-12-02<br>Number of trials: 4/4 (1 PENDING, 1 RUNNING, 2 TERMINATED)<br><table>\n<thead>\n<tr><th>Trial name         </th><th>status    </th><th>loc           </th><th style=\"text-align: right;\">         lr</th><th style=\"text-align: right;\">   acc</th><th style=\"text-align: right;\">  iter</th><th style=\"text-align: right;\">  total time (s)</th></tr>\n</thead>\n<tbody>\n<tr><td>my_func_486c8_00002</td><td>RUNNING   </td><td>172.19.2.2:164</td><td style=\"text-align: right;\">0.000133983</td><td style=\"text-align: right;\">0.4466</td><td style=\"text-align: right;\">     3</td><td style=\"text-align: right;\">         44.1222</td></tr>\n<tr><td>my_func_486c8_00003</td><td>PENDING   </td><td>              </td><td style=\"text-align: right;\">0.00855231 </td><td style=\"text-align: right;\">      </td><td style=\"text-align: right;\">      </td><td style=\"text-align: right;\">                </td></tr>\n<tr><td>my_func_486c8_00000</td><td>TERMINATED</td><td>              </td><td style=\"text-align: right;\">0.00144876 </td><td style=\"text-align: right;\">0.6552</td><td style=\"text-align: right;\">    10</td><td style=\"text-align: right;\">        149.484 </td></tr>\n<tr><td>my_func_486c8_00001</td><td>TERMINATED</td><td>              </td><td style=\"text-align: right;\">0.00015086 </td><td style=\"text-align: right;\">0.5694</td><td style=\"text-align: right;\">    10</td><td style=\"text-align: right;\">        143.338 </td></tr>\n</tbody>\n</table><br><br>"
     },
     "metadata": {},
     "output_type": "display_data"
    },
    {
     "name": "stdout",
     "output_type": "stream",
     "text": [
      "Result for my_func_486c8_00002:\n",
      "  date: 2021-06-17_20-18-04\n",
      "  done: false\n",
      "  experiment_id: 21c738b99232444e8c8950182b9f8bb6\n",
      "  hostname: 13a89f6488bf\n",
      "  iterations_since_restore: 4\n",
      "  mean_accuracy: 0.4717\n",
      "  node_ip: 172.19.2.2\n",
      "  pid: 164\n",
      "  time_since_restore: 58.06918525695801\n",
      "  time_this_iter_s: 13.946961879730225\n",
      "  time_total_s: 58.06918525695801\n",
      "  timestamp: 1623961084\n",
      "  timesteps_since_restore: 0\n",
      "  training_iteration: 4\n",
      "  trial_id: 486c8_00002\n",
      "  \n",
      "Epoch 5\n",
      "-------------------------------\n",
      "loss: 1.482807  [    0/50000]\n",
      "loss: 1.462103  [ 6400/50000]\n",
      "loss: 1.403572  [12800/50000]\n",
      "loss: 1.434625  [19200/50000]\n",
      "loss: 1.484306  [25600/50000]\n",
      "loss: 1.521636  [32000/50000]\n",
      "loss: 1.210066  [38400/50000]\n",
      "loss: 1.268631  [44800/50000]\n",
      "Train Error: \n",
      " Accuracy: 49.3%, Avg loss: 0.021963 \n",
      "\n",
      "Test Error: \n",
      " Accuracy: 49.4%, Avg loss: 0.022059 \n",
      "\n"
     ]
    },
    {
     "data": {
      "text/plain": "<IPython.core.display.HTML object>",
      "text/html": "== Status ==<br>Memory usage on this node: 7.6/15.6 GiB<br>Using FIFO scheduling algorithm.<br>Resources requested: 1/2 CPUs, 1/1 GPUs, 0.0/6.93 GiB heap, 0.0/2.39 GiB objects (0/1.0 accelerator_type:P100)<br>Result logdir: /root/ray_results/my_func_2021-06-17_20-12-02<br>Number of trials: 4/4 (1 PENDING, 1 RUNNING, 2 TERMINATED)<br><table>\n<thead>\n<tr><th>Trial name         </th><th>status    </th><th>loc           </th><th style=\"text-align: right;\">         lr</th><th style=\"text-align: right;\">   acc</th><th style=\"text-align: right;\">  iter</th><th style=\"text-align: right;\">  total time (s)</th></tr>\n</thead>\n<tbody>\n<tr><td>my_func_486c8_00002</td><td>RUNNING   </td><td>172.19.2.2:164</td><td style=\"text-align: right;\">0.000133983</td><td style=\"text-align: right;\">0.4717</td><td style=\"text-align: right;\">     4</td><td style=\"text-align: right;\">         58.0692</td></tr>\n<tr><td>my_func_486c8_00003</td><td>PENDING   </td><td>              </td><td style=\"text-align: right;\">0.00855231 </td><td style=\"text-align: right;\">      </td><td style=\"text-align: right;\">      </td><td style=\"text-align: right;\">                </td></tr>\n<tr><td>my_func_486c8_00000</td><td>TERMINATED</td><td>              </td><td style=\"text-align: right;\">0.00144876 </td><td style=\"text-align: right;\">0.6552</td><td style=\"text-align: right;\">    10</td><td style=\"text-align: right;\">        149.484 </td></tr>\n<tr><td>my_func_486c8_00001</td><td>TERMINATED</td><td>              </td><td style=\"text-align: right;\">0.00015086 </td><td style=\"text-align: right;\">0.5694</td><td style=\"text-align: right;\">    10</td><td style=\"text-align: right;\">        143.338 </td></tr>\n</tbody>\n</table><br><br>"
     },
     "metadata": {},
     "output_type": "display_data"
    },
    {
     "name": "stdout",
     "output_type": "stream",
     "text": [
      "Result for my_func_486c8_00002:\n",
      "  date: 2021-06-17_20-18-18\n",
      "  done: false\n",
      "  experiment_id: 21c738b99232444e8c8950182b9f8bb6\n",
      "  hostname: 13a89f6488bf\n",
      "  iterations_since_restore: 5\n",
      "  mean_accuracy: 0.4938\n",
      "  node_ip: 172.19.2.2\n",
      "  pid: 164\n",
      "  time_since_restore: 72.44368553161621\n",
      "  time_this_iter_s: 14.374500274658203\n",
      "  time_total_s: 72.44368553161621\n",
      "  timestamp: 1623961098\n",
      "  timesteps_since_restore: 0\n",
      "  training_iteration: 5\n",
      "  trial_id: 486c8_00002\n",
      "  \n",
      "Epoch 6\n",
      "-------------------------------\n",
      "loss: 1.571786  [    0/50000]\n",
      "loss: 1.361091  [ 6400/50000]\n",
      "loss: 1.377786  [12800/50000]\n",
      "loss: 1.482924  [19200/50000]\n",
      "loss: 1.529455  [25600/50000]\n",
      "loss: 1.329257  [32000/50000]\n",
      "loss: 1.296641  [38400/50000]\n",
      "loss: 1.530361  [44800/50000]\n",
      "Train Error: \n",
      " Accuracy: 51.8%, Avg loss: 0.020912 \n",
      "\n",
      "Test Error: \n",
      " Accuracy: 51.9%, Avg loss: 0.021148 \n",
      "\n"
     ]
    },
    {
     "data": {
      "text/plain": "<IPython.core.display.HTML object>",
      "text/html": "== Status ==<br>Memory usage on this node: 7.6/15.6 GiB<br>Using FIFO scheduling algorithm.<br>Resources requested: 1/2 CPUs, 1/1 GPUs, 0.0/6.93 GiB heap, 0.0/2.39 GiB objects (0/1.0 accelerator_type:P100)<br>Result logdir: /root/ray_results/my_func_2021-06-17_20-12-02<br>Number of trials: 4/4 (1 PENDING, 1 RUNNING, 2 TERMINATED)<br><table>\n<thead>\n<tr><th>Trial name         </th><th>status    </th><th>loc           </th><th style=\"text-align: right;\">         lr</th><th style=\"text-align: right;\">   acc</th><th style=\"text-align: right;\">  iter</th><th style=\"text-align: right;\">  total time (s)</th></tr>\n</thead>\n<tbody>\n<tr><td>my_func_486c8_00002</td><td>RUNNING   </td><td>172.19.2.2:164</td><td style=\"text-align: right;\">0.000133983</td><td style=\"text-align: right;\">0.4938</td><td style=\"text-align: right;\">     5</td><td style=\"text-align: right;\">         72.4437</td></tr>\n<tr><td>my_func_486c8_00003</td><td>PENDING   </td><td>              </td><td style=\"text-align: right;\">0.00855231 </td><td style=\"text-align: right;\">      </td><td style=\"text-align: right;\">      </td><td style=\"text-align: right;\">                </td></tr>\n<tr><td>my_func_486c8_00000</td><td>TERMINATED</td><td>              </td><td style=\"text-align: right;\">0.00144876 </td><td style=\"text-align: right;\">0.6552</td><td style=\"text-align: right;\">    10</td><td style=\"text-align: right;\">        149.484 </td></tr>\n<tr><td>my_func_486c8_00001</td><td>TERMINATED</td><td>              </td><td style=\"text-align: right;\">0.00015086 </td><td style=\"text-align: right;\">0.5694</td><td style=\"text-align: right;\">    10</td><td style=\"text-align: right;\">        143.338 </td></tr>\n</tbody>\n</table><br><br>"
     },
     "metadata": {},
     "output_type": "display_data"
    },
    {
     "name": "stdout",
     "output_type": "stream",
     "text": [
      "Result for my_func_486c8_00002:\n",
      "  date: 2021-06-17_20-18-32\n",
      "  done: false\n",
      "  experiment_id: 21c738b99232444e8c8950182b9f8bb6\n",
      "  hostname: 13a89f6488bf\n",
      "  iterations_since_restore: 6\n",
      "  mean_accuracy: 0.5192\n",
      "  node_ip: 172.19.2.2\n",
      "  pid: 164\n",
      "  time_since_restore: 86.32110834121704\n",
      "  time_this_iter_s: 13.87742280960083\n",
      "  time_total_s: 86.32110834121704\n",
      "  timestamp: 1623961112\n",
      "  timesteps_since_restore: 0\n",
      "  training_iteration: 6\n",
      "  trial_id: 486c8_00002\n",
      "  \n",
      "Epoch 7\n",
      "-------------------------------\n",
      "loss: 1.094394  [    0/50000]\n",
      "loss: 1.224644  [ 6400/50000]\n",
      "loss: 1.186453  [12800/50000]\n",
      "loss: 1.452147  [19200/50000]\n",
      "loss: 1.171692  [25600/50000]\n",
      "loss: 1.230558  [32000/50000]\n",
      "loss: 1.252669  [38400/50000]\n",
      "loss: 1.387573  [44800/50000]\n",
      "Train Error: \n",
      " Accuracy: 52.9%, Avg loss: 0.020537 \n",
      "\n",
      "Test Error: \n",
      " Accuracy: 52.3%, Avg loss: 0.020830 \n",
      "\n"
     ]
    },
    {
     "data": {
      "text/plain": "<IPython.core.display.HTML object>",
      "text/html": "== Status ==<br>Memory usage on this node: 7.6/15.6 GiB<br>Using FIFO scheduling algorithm.<br>Resources requested: 1/2 CPUs, 1/1 GPUs, 0.0/6.93 GiB heap, 0.0/2.39 GiB objects (0/1.0 accelerator_type:P100)<br>Result logdir: /root/ray_results/my_func_2021-06-17_20-12-02<br>Number of trials: 4/4 (1 PENDING, 1 RUNNING, 2 TERMINATED)<br><table>\n<thead>\n<tr><th>Trial name         </th><th>status    </th><th>loc           </th><th style=\"text-align: right;\">         lr</th><th style=\"text-align: right;\">   acc</th><th style=\"text-align: right;\">  iter</th><th style=\"text-align: right;\">  total time (s)</th></tr>\n</thead>\n<tbody>\n<tr><td>my_func_486c8_00002</td><td>RUNNING   </td><td>172.19.2.2:164</td><td style=\"text-align: right;\">0.000133983</td><td style=\"text-align: right;\">0.5192</td><td style=\"text-align: right;\">     6</td><td style=\"text-align: right;\">         86.3211</td></tr>\n<tr><td>my_func_486c8_00003</td><td>PENDING   </td><td>              </td><td style=\"text-align: right;\">0.00855231 </td><td style=\"text-align: right;\">      </td><td style=\"text-align: right;\">      </td><td style=\"text-align: right;\">                </td></tr>\n<tr><td>my_func_486c8_00000</td><td>TERMINATED</td><td>              </td><td style=\"text-align: right;\">0.00144876 </td><td style=\"text-align: right;\">0.6552</td><td style=\"text-align: right;\">    10</td><td style=\"text-align: right;\">        149.484 </td></tr>\n<tr><td>my_func_486c8_00001</td><td>TERMINATED</td><td>              </td><td style=\"text-align: right;\">0.00015086 </td><td style=\"text-align: right;\">0.5694</td><td style=\"text-align: right;\">    10</td><td style=\"text-align: right;\">        143.338 </td></tr>\n</tbody>\n</table><br><br>"
     },
     "metadata": {},
     "output_type": "display_data"
    },
    {
     "name": "stderr",
     "output_type": "stream",
     "text": [
      "2021-06-17 20:18:46,775\tWARNING ray_trial_executor.py:593 -- Over the last 60 seconds, the Tune event loop has been backlogged processing new results. Consider increasing your period of result reporting to improve performance.\n"
     ]
    },
    {
     "name": "stdout",
     "output_type": "stream",
     "text": [
      "Result for my_func_486c8_00002:\n",
      "  date: 2021-06-17_20-18-46\n",
      "  done: false\n",
      "  experiment_id: 21c738b99232444e8c8950182b9f8bb6\n",
      "  hostname: 13a89f6488bf\n",
      "  iterations_since_restore: 7\n",
      "  mean_accuracy: 0.5231\n",
      "  node_ip: 172.19.2.2\n",
      "  pid: 164\n",
      "  time_since_restore: 100.38758277893066\n",
      "  time_this_iter_s: 14.066474437713623\n",
      "  time_total_s: 100.38758277893066\n",
      "  timestamp: 1623961126\n",
      "  timesteps_since_restore: 0\n",
      "  training_iteration: 7\n",
      "  trial_id: 486c8_00002\n",
      "  \n",
      "Epoch 8\n",
      "-------------------------------\n",
      "loss: 1.309318  [    0/50000]\n",
      "loss: 1.345116  [ 6400/50000]\n",
      "loss: 1.327593  [12800/50000]\n",
      "loss: 1.088207  [19200/50000]\n",
      "loss: 1.436686  [25600/50000]\n",
      "loss: 1.312951  [32000/50000]\n",
      "loss: 1.228520  [38400/50000]\n",
      "loss: 1.454349  [44800/50000]\n",
      "Train Error: \n",
      " Accuracy: 54.0%, Avg loss: 0.019948 \n",
      "\n",
      "Test Error: \n",
      " Accuracy: 53.7%, Avg loss: 0.020238 \n",
      "\n"
     ]
    },
    {
     "data": {
      "text/plain": "<IPython.core.display.HTML object>",
      "text/html": "== Status ==<br>Memory usage on this node: 7.6/15.6 GiB<br>Using FIFO scheduling algorithm.<br>Resources requested: 1/2 CPUs, 1/1 GPUs, 0.0/6.93 GiB heap, 0.0/2.39 GiB objects (0/1.0 accelerator_type:P100)<br>Result logdir: /root/ray_results/my_func_2021-06-17_20-12-02<br>Number of trials: 4/4 (1 PENDING, 1 RUNNING, 2 TERMINATED)<br><table>\n<thead>\n<tr><th>Trial name         </th><th>status    </th><th>loc           </th><th style=\"text-align: right;\">         lr</th><th style=\"text-align: right;\">   acc</th><th style=\"text-align: right;\">  iter</th><th style=\"text-align: right;\">  total time (s)</th></tr>\n</thead>\n<tbody>\n<tr><td>my_func_486c8_00002</td><td>RUNNING   </td><td>172.19.2.2:164</td><td style=\"text-align: right;\">0.000133983</td><td style=\"text-align: right;\">0.5231</td><td style=\"text-align: right;\">     7</td><td style=\"text-align: right;\">         100.388</td></tr>\n<tr><td>my_func_486c8_00003</td><td>PENDING   </td><td>              </td><td style=\"text-align: right;\">0.00855231 </td><td style=\"text-align: right;\">      </td><td style=\"text-align: right;\">      </td><td style=\"text-align: right;\">                </td></tr>\n<tr><td>my_func_486c8_00000</td><td>TERMINATED</td><td>              </td><td style=\"text-align: right;\">0.00144876 </td><td style=\"text-align: right;\">0.6552</td><td style=\"text-align: right;\">    10</td><td style=\"text-align: right;\">         149.484</td></tr>\n<tr><td>my_func_486c8_00001</td><td>TERMINATED</td><td>              </td><td style=\"text-align: right;\">0.00015086 </td><td style=\"text-align: right;\">0.5694</td><td style=\"text-align: right;\">    10</td><td style=\"text-align: right;\">         143.338</td></tr>\n</tbody>\n</table><br><br>"
     },
     "metadata": {},
     "output_type": "display_data"
    },
    {
     "name": "stdout",
     "output_type": "stream",
     "text": [
      "Result for my_func_486c8_00002:\n",
      "  date: 2021-06-17_20-19-01\n",
      "  done: false\n",
      "  experiment_id: 21c738b99232444e8c8950182b9f8bb6\n",
      "  hostname: 13a89f6488bf\n",
      "  iterations_since_restore: 8\n",
      "  mean_accuracy: 0.5372\n",
      "  node_ip: 172.19.2.2\n",
      "  pid: 164\n",
      "  time_since_restore: 114.71889781951904\n",
      "  time_this_iter_s: 14.331315040588379\n",
      "  time_total_s: 114.71889781951904\n",
      "  timestamp: 1623961141\n",
      "  timesteps_since_restore: 0\n",
      "  training_iteration: 8\n",
      "  trial_id: 486c8_00002\n",
      "  \n",
      "Epoch 9\n",
      "-------------------------------\n",
      "loss: 1.157570  [    0/50000]\n",
      "loss: 1.101982  [ 6400/50000]\n",
      "loss: 1.188570  [12800/50000]\n",
      "loss: 1.170579  [19200/50000]\n",
      "loss: 1.195722  [25600/50000]\n",
      "loss: 1.257179  [32000/50000]\n",
      "loss: 1.369370  [38400/50000]\n",
      "loss: 1.367402  [44800/50000]\n",
      "Train Error: \n",
      " Accuracy: 55.8%, Avg loss: 0.019308 \n",
      "\n",
      "Test Error: \n",
      " Accuracy: 55.1%, Avg loss: 0.019674 \n",
      "\n"
     ]
    },
    {
     "data": {
      "text/plain": "<IPython.core.display.HTML object>",
      "text/html": "== Status ==<br>Memory usage on this node: 7.6/15.6 GiB<br>Using FIFO scheduling algorithm.<br>Resources requested: 1/2 CPUs, 1/1 GPUs, 0.0/6.93 GiB heap, 0.0/2.39 GiB objects (0/1.0 accelerator_type:P100)<br>Result logdir: /root/ray_results/my_func_2021-06-17_20-12-02<br>Number of trials: 4/4 (1 PENDING, 1 RUNNING, 2 TERMINATED)<br><table>\n<thead>\n<tr><th>Trial name         </th><th>status    </th><th>loc           </th><th style=\"text-align: right;\">         lr</th><th style=\"text-align: right;\">   acc</th><th style=\"text-align: right;\">  iter</th><th style=\"text-align: right;\">  total time (s)</th></tr>\n</thead>\n<tbody>\n<tr><td>my_func_486c8_00002</td><td>RUNNING   </td><td>172.19.2.2:164</td><td style=\"text-align: right;\">0.000133983</td><td style=\"text-align: right;\">0.5372</td><td style=\"text-align: right;\">     8</td><td style=\"text-align: right;\">         114.719</td></tr>\n<tr><td>my_func_486c8_00003</td><td>PENDING   </td><td>              </td><td style=\"text-align: right;\">0.00855231 </td><td style=\"text-align: right;\">      </td><td style=\"text-align: right;\">      </td><td style=\"text-align: right;\">                </td></tr>\n<tr><td>my_func_486c8_00000</td><td>TERMINATED</td><td>              </td><td style=\"text-align: right;\">0.00144876 </td><td style=\"text-align: right;\">0.6552</td><td style=\"text-align: right;\">    10</td><td style=\"text-align: right;\">         149.484</td></tr>\n<tr><td>my_func_486c8_00001</td><td>TERMINATED</td><td>              </td><td style=\"text-align: right;\">0.00015086 </td><td style=\"text-align: right;\">0.5694</td><td style=\"text-align: right;\">    10</td><td style=\"text-align: right;\">         143.338</td></tr>\n</tbody>\n</table><br><br>"
     },
     "metadata": {},
     "output_type": "display_data"
    },
    {
     "name": "stdout",
     "output_type": "stream",
     "text": [
      "Result for my_func_486c8_00002:\n",
      "  date: 2021-06-17_20-19-15\n",
      "  done: false\n",
      "  experiment_id: 21c738b99232444e8c8950182b9f8bb6\n",
      "  hostname: 13a89f6488bf\n",
      "  iterations_since_restore: 9\n",
      "  mean_accuracy: 0.5507\n",
      "  node_ip: 172.19.2.2\n",
      "  pid: 164\n",
      "  time_since_restore: 128.87579083442688\n",
      "  time_this_iter_s: 14.156893014907837\n",
      "  time_total_s: 128.87579083442688\n",
      "  timestamp: 1623961155\n",
      "  timesteps_since_restore: 0\n",
      "  training_iteration: 9\n",
      "  trial_id: 486c8_00002\n",
      "  \n",
      "Epoch 10\n",
      "-------------------------------\n",
      "loss: 1.138418  [    0/50000]\n",
      "loss: 1.294251  [ 6400/50000]\n",
      "loss: 1.492306  [12800/50000]\n",
      "loss: 1.017284  [19200/50000]\n",
      "loss: 1.317573  [25600/50000]\n",
      "loss: 1.139315  [32000/50000]\n",
      "loss: 1.068359  [38400/50000]\n",
      "loss: 1.071284  [44800/50000]\n",
      "Train Error: \n",
      " Accuracy: 57.1%, Avg loss: 0.018858 \n",
      "\n",
      "Test Error: \n",
      " Accuracy: 55.6%, Avg loss: 0.019363 \n",
      "\n"
     ]
    },
    {
     "data": {
      "text/plain": "<IPython.core.display.HTML object>",
      "text/html": "== Status ==<br>Memory usage on this node: 7.6/15.6 GiB<br>Using FIFO scheduling algorithm.<br>Resources requested: 1/2 CPUs, 1/1 GPUs, 0.0/6.93 GiB heap, 0.0/2.39 GiB objects (0/1.0 accelerator_type:P100)<br>Result logdir: /root/ray_results/my_func_2021-06-17_20-12-02<br>Number of trials: 4/4 (1 PENDING, 1 RUNNING, 2 TERMINATED)<br><table>\n<thead>\n<tr><th>Trial name         </th><th>status    </th><th>loc           </th><th style=\"text-align: right;\">         lr</th><th style=\"text-align: right;\">   acc</th><th style=\"text-align: right;\">  iter</th><th style=\"text-align: right;\">  total time (s)</th></tr>\n</thead>\n<tbody>\n<tr><td>my_func_486c8_00002</td><td>RUNNING   </td><td>172.19.2.2:164</td><td style=\"text-align: right;\">0.000133983</td><td style=\"text-align: right;\">0.5507</td><td style=\"text-align: right;\">     9</td><td style=\"text-align: right;\">         128.876</td></tr>\n<tr><td>my_func_486c8_00003</td><td>PENDING   </td><td>              </td><td style=\"text-align: right;\">0.00855231 </td><td style=\"text-align: right;\">      </td><td style=\"text-align: right;\">      </td><td style=\"text-align: right;\">                </td></tr>\n<tr><td>my_func_486c8_00000</td><td>TERMINATED</td><td>              </td><td style=\"text-align: right;\">0.00144876 </td><td style=\"text-align: right;\">0.6552</td><td style=\"text-align: right;\">    10</td><td style=\"text-align: right;\">         149.484</td></tr>\n<tr><td>my_func_486c8_00001</td><td>TERMINATED</td><td>              </td><td style=\"text-align: right;\">0.00015086 </td><td style=\"text-align: right;\">0.5694</td><td style=\"text-align: right;\">    10</td><td style=\"text-align: right;\">         143.338</td></tr>\n</tbody>\n</table><br><br>"
     },
     "metadata": {},
     "output_type": "display_data"
    },
    {
     "name": "stdout",
     "output_type": "stream",
     "text": [
      "Result for my_func_486c8_00002:\n",
      "  date: 2021-06-17_20-19-29\n",
      "  done: false\n",
      "  experiment_id: 21c738b99232444e8c8950182b9f8bb6\n",
      "  hostname: 13a89f6488bf\n",
      "  iterations_since_restore: 10\n",
      "  mean_accuracy: 0.5565\n",
      "  node_ip: 172.19.2.2\n",
      "  pid: 164\n",
      "  time_since_restore: 143.13404965400696\n",
      "  time_this_iter_s: 14.258258819580078\n",
      "  time_total_s: 143.13404965400696\n",
      "  timestamp: 1623961169\n",
      "  timesteps_since_restore: 0\n",
      "  training_iteration: 10\n",
      "  trial_id: 486c8_00002\n",
      "  \n",
      "Done!\n",
      "Result for my_func_486c8_00002:\n",
      "  date: 2021-06-17_20-19-29\n",
      "  done: true\n",
      "  experiment_id: 21c738b99232444e8c8950182b9f8bb6\n",
      "  experiment_tag: 2_lr=0.00013398\n",
      "  hostname: 13a89f6488bf\n",
      "  iterations_since_restore: 10\n",
      "  mean_accuracy: 0.5565\n",
      "  node_ip: 172.19.2.2\n",
      "  pid: 164\n",
      "  time_since_restore: 143.13404965400696\n",
      "  time_this_iter_s: 14.258258819580078\n",
      "  time_total_s: 143.13404965400696\n",
      "  timestamp: 1623961169\n",
      "  timesteps_since_restore: 0\n",
      "  training_iteration: 10\n",
      "  trial_id: 486c8_00002\n",
      "  \n",
      "NeuralNetworkCNN(\n",
      "  (conv1): Conv2d(3, 64, kernel_size=(3, 3), stride=(1, 1))\n",
      "  (pool): MaxPool2d(kernel_size=2, stride=2, padding=0, dilation=1, ceil_mode=False)\n",
      "  (conv2): Conv2d(64, 64, kernel_size=(3, 3), stride=(1, 1))\n",
      "  (conv3): Conv2d(64, 128, kernel_size=(3, 3), stride=(1, 1))\n",
      "  (fc1): Linear(in_features=512, out_features=128, bias=True)\n",
      "  (fc2): Linear(in_features=128, out_features=64, bias=True)\n",
      "  (fc3): Linear(in_features=64, out_features=10, bias=True)\n",
      ")\n",
      "Epoch 1\n",
      "-------------------------------\n",
      "loss: 2.304426  [    0/50000]\n",
      "loss: 2.211025  [ 6400/50000]\n",
      "loss: 2.113405  [12800/50000]\n",
      "loss: 1.939528  [19200/50000]\n",
      "loss: 1.901179  [25600/50000]\n",
      "loss: 1.944238  [32000/50000]\n",
      "loss: 1.721844  [38400/50000]\n",
      "loss: 1.787071  [44800/50000]\n",
      "Train Error: \n",
      " Accuracy: 35.7%, Avg loss: 0.027030 \n",
      "\n"
     ]
    },
    {
     "name": "stderr",
     "output_type": "stream",
     "text": [
      "2021-06-17 20:19:45,527\tWARNING util.py:152 -- The `start_trial` operation took 15.998 s, which may be a performance bottleneck.\n"
     ]
    },
    {
     "name": "stdout",
     "output_type": "stream",
     "text": [
      "Test Error: \n",
      " Accuracy: 35.3%, Avg loss: 0.027068 \n",
      "\n"
     ]
    },
    {
     "data": {
      "text/plain": "<IPython.core.display.HTML object>",
      "text/html": "== Status ==<br>Memory usage on this node: 7.7/15.6 GiB<br>Using FIFO scheduling algorithm.<br>Resources requested: 1/2 CPUs, 1/1 GPUs, 0.0/6.93 GiB heap, 0.0/2.39 GiB objects (0/1.0 accelerator_type:P100)<br>Result logdir: /root/ray_results/my_func_2021-06-17_20-12-02<br>Number of trials: 4/4 (1 RUNNING, 3 TERMINATED)<br><table>\n<thead>\n<tr><th>Trial name         </th><th>status    </th><th>loc  </th><th style=\"text-align: right;\">         lr</th><th style=\"text-align: right;\">   acc</th><th style=\"text-align: right;\">  iter</th><th style=\"text-align: right;\">  total time (s)</th></tr>\n</thead>\n<tbody>\n<tr><td>my_func_486c8_00003</td><td>RUNNING   </td><td>     </td><td style=\"text-align: right;\">0.00855231 </td><td style=\"text-align: right;\">      </td><td style=\"text-align: right;\">      </td><td style=\"text-align: right;\">                </td></tr>\n<tr><td>my_func_486c8_00000</td><td>TERMINATED</td><td>     </td><td style=\"text-align: right;\">0.00144876 </td><td style=\"text-align: right;\">0.6552</td><td style=\"text-align: right;\">    10</td><td style=\"text-align: right;\">         149.484</td></tr>\n<tr><td>my_func_486c8_00001</td><td>TERMINATED</td><td>     </td><td style=\"text-align: right;\">0.00015086 </td><td style=\"text-align: right;\">0.5694</td><td style=\"text-align: right;\">    10</td><td style=\"text-align: right;\">         143.338</td></tr>\n<tr><td>my_func_486c8_00002</td><td>TERMINATED</td><td>     </td><td style=\"text-align: right;\">0.000133983</td><td style=\"text-align: right;\">0.5565</td><td style=\"text-align: right;\">    10</td><td style=\"text-align: right;\">         143.134</td></tr>\n</tbody>\n</table><br><br>"
     },
     "metadata": {},
     "output_type": "display_data"
    },
    {
     "name": "stdout",
     "output_type": "stream",
     "text": [
      "Result for my_func_486c8_00003:\n",
      "  date: 2021-06-17_20-19-45\n",
      "  done: false\n",
      "  experiment_id: e23e828eb8284596bacd2479914b9813\n",
      "  hostname: 13a89f6488bf\n",
      "  iterations_since_restore: 1\n",
      "  mean_accuracy: 0.3526\n",
      "  node_ip: 172.19.2.2\n",
      "  pid: 164\n",
      "  time_since_restore: 14.084453821182251\n",
      "  time_this_iter_s: 14.084453821182251\n",
      "  time_total_s: 14.084453821182251\n",
      "  timestamp: 1623961185\n",
      "  timesteps_since_restore: 0\n",
      "  training_iteration: 1\n",
      "  trial_id: 486c8_00003\n",
      "  \n",
      "Epoch 2\n",
      "-------------------------------\n",
      "loss: 1.560687  [    0/50000]\n",
      "loss: 1.742779  [ 6400/50000]\n",
      "loss: 1.603105  [12800/50000]\n",
      "loss: 1.687224  [19200/50000]\n",
      "loss: 1.585597  [25600/50000]\n",
      "loss: 1.564712  [32000/50000]\n",
      "loss: 1.565869  [38400/50000]\n",
      "loss: 1.535197  [44800/50000]\n",
      "Train Error: \n",
      " Accuracy: 39.2%, Avg loss: 0.025488 \n",
      "\n",
      "Test Error: \n",
      " Accuracy: 39.2%, Avg loss: 0.025803 \n",
      "\n"
     ]
    },
    {
     "data": {
      "text/plain": "<IPython.core.display.HTML object>",
      "text/html": "== Status ==<br>Memory usage on this node: 7.7/15.6 GiB<br>Using FIFO scheduling algorithm.<br>Resources requested: 1/2 CPUs, 1/1 GPUs, 0.0/6.93 GiB heap, 0.0/2.39 GiB objects (0/1.0 accelerator_type:P100)<br>Result logdir: /root/ray_results/my_func_2021-06-17_20-12-02<br>Number of trials: 4/4 (1 RUNNING, 3 TERMINATED)<br><table>\n<thead>\n<tr><th>Trial name         </th><th>status    </th><th>loc           </th><th style=\"text-align: right;\">         lr</th><th style=\"text-align: right;\">   acc</th><th style=\"text-align: right;\">  iter</th><th style=\"text-align: right;\">  total time (s)</th></tr>\n</thead>\n<tbody>\n<tr><td>my_func_486c8_00003</td><td>RUNNING   </td><td>172.19.2.2:164</td><td style=\"text-align: right;\">0.00855231 </td><td style=\"text-align: right;\">0.3526</td><td style=\"text-align: right;\">     1</td><td style=\"text-align: right;\">         14.0845</td></tr>\n<tr><td>my_func_486c8_00000</td><td>TERMINATED</td><td>              </td><td style=\"text-align: right;\">0.00144876 </td><td style=\"text-align: right;\">0.6552</td><td style=\"text-align: right;\">    10</td><td style=\"text-align: right;\">        149.484 </td></tr>\n<tr><td>my_func_486c8_00001</td><td>TERMINATED</td><td>              </td><td style=\"text-align: right;\">0.00015086 </td><td style=\"text-align: right;\">0.5694</td><td style=\"text-align: right;\">    10</td><td style=\"text-align: right;\">        143.338 </td></tr>\n<tr><td>my_func_486c8_00002</td><td>TERMINATED</td><td>              </td><td style=\"text-align: right;\">0.000133983</td><td style=\"text-align: right;\">0.5565</td><td style=\"text-align: right;\">    10</td><td style=\"text-align: right;\">        143.134 </td></tr>\n</tbody>\n</table><br><br>"
     },
     "metadata": {},
     "output_type": "display_data"
    },
    {
     "name": "stderr",
     "output_type": "stream",
     "text": [
      "2021-06-17 20:19:59,831\tWARNING ray_trial_executor.py:593 -- Over the last 60 seconds, the Tune event loop has been backlogged processing new results. Consider increasing your period of result reporting to improve performance.\n"
     ]
    },
    {
     "name": "stdout",
     "output_type": "stream",
     "text": [
      "Result for my_func_486c8_00003:\n",
      "  date: 2021-06-17_20-19-59\n",
      "  done: false\n",
      "  experiment_id: e23e828eb8284596bacd2479914b9813\n",
      "  hostname: 13a89f6488bf\n",
      "  iterations_since_restore: 2\n",
      "  mean_accuracy: 0.3916\n",
      "  node_ip: 172.19.2.2\n",
      "  pid: 164\n",
      "  time_since_restore: 28.38316297531128\n",
      "  time_this_iter_s: 14.298709154129028\n",
      "  time_total_s: 28.38316297531128\n",
      "  timestamp: 1623961199\n",
      "  timesteps_since_restore: 0\n",
      "  training_iteration: 2\n",
      "  trial_id: 486c8_00003\n",
      "  \n",
      "Epoch 3\n",
      "-------------------------------\n",
      "loss: 1.367772  [    0/50000]\n",
      "loss: 1.699266  [ 6400/50000]\n",
      "loss: 1.551146  [12800/50000]\n",
      "loss: 1.474352  [19200/50000]\n",
      "loss: 1.438442  [25600/50000]\n",
      "loss: 1.509302  [32000/50000]\n",
      "loss: 1.417068  [38400/50000]\n",
      "loss: 1.647252  [44800/50000]\n",
      "Train Error: \n",
      " Accuracy: 41.4%, Avg loss: 0.024805 \n",
      "\n",
      "Test Error: \n",
      " Accuracy: 40.7%, Avg loss: 0.025190 \n",
      "\n"
     ]
    },
    {
     "data": {
      "text/plain": "<IPython.core.display.HTML object>",
      "text/html": "== Status ==<br>Memory usage on this node: 7.7/15.6 GiB<br>Using FIFO scheduling algorithm.<br>Resources requested: 1/2 CPUs, 1/1 GPUs, 0.0/6.93 GiB heap, 0.0/2.39 GiB objects (0/1.0 accelerator_type:P100)<br>Result logdir: /root/ray_results/my_func_2021-06-17_20-12-02<br>Number of trials: 4/4 (1 RUNNING, 3 TERMINATED)<br><table>\n<thead>\n<tr><th>Trial name         </th><th>status    </th><th>loc           </th><th style=\"text-align: right;\">         lr</th><th style=\"text-align: right;\">   acc</th><th style=\"text-align: right;\">  iter</th><th style=\"text-align: right;\">  total time (s)</th></tr>\n</thead>\n<tbody>\n<tr><td>my_func_486c8_00003</td><td>RUNNING   </td><td>172.19.2.2:164</td><td style=\"text-align: right;\">0.00855231 </td><td style=\"text-align: right;\">0.3916</td><td style=\"text-align: right;\">     2</td><td style=\"text-align: right;\">         28.3832</td></tr>\n<tr><td>my_func_486c8_00000</td><td>TERMINATED</td><td>              </td><td style=\"text-align: right;\">0.00144876 </td><td style=\"text-align: right;\">0.6552</td><td style=\"text-align: right;\">    10</td><td style=\"text-align: right;\">        149.484 </td></tr>\n<tr><td>my_func_486c8_00001</td><td>TERMINATED</td><td>              </td><td style=\"text-align: right;\">0.00015086 </td><td style=\"text-align: right;\">0.5694</td><td style=\"text-align: right;\">    10</td><td style=\"text-align: right;\">        143.338 </td></tr>\n<tr><td>my_func_486c8_00002</td><td>TERMINATED</td><td>              </td><td style=\"text-align: right;\">0.000133983</td><td style=\"text-align: right;\">0.5565</td><td style=\"text-align: right;\">    10</td><td style=\"text-align: right;\">        143.134 </td></tr>\n</tbody>\n</table><br><br>"
     },
     "metadata": {},
     "output_type": "display_data"
    },
    {
     "name": "stdout",
     "output_type": "stream",
     "text": [
      "Result for my_func_486c8_00003:\n",
      "  date: 2021-06-17_20-20-13\n",
      "  done: false\n",
      "  experiment_id: e23e828eb8284596bacd2479914b9813\n",
      "  hostname: 13a89f6488bf\n",
      "  iterations_since_restore: 3\n",
      "  mean_accuracy: 0.4068\n",
      "  node_ip: 172.19.2.2\n",
      "  pid: 164\n",
      "  time_since_restore: 42.23949933052063\n",
      "  time_this_iter_s: 13.85633635520935\n",
      "  time_total_s: 42.23949933052063\n",
      "  timestamp: 1623961213\n",
      "  timesteps_since_restore: 0\n",
      "  training_iteration: 3\n",
      "  trial_id: 486c8_00003\n",
      "  \n",
      "Epoch 4\n",
      "-------------------------------\n",
      "loss: 1.487311  [    0/50000]\n",
      "loss: 1.491536  [ 6400/50000]\n",
      "loss: 1.505753  [12800/50000]\n",
      "loss: 1.459256  [19200/50000]\n",
      "loss: 1.633736  [25600/50000]\n",
      "loss: 1.571689  [32000/50000]\n",
      "loss: 1.516125  [38400/50000]\n",
      "loss: 1.591427  [44800/50000]\n",
      "Train Error: \n",
      " Accuracy: 42.4%, Avg loss: 0.024598 \n",
      "\n",
      "Test Error: \n",
      " Accuracy: 41.4%, Avg loss: 0.025117 \n",
      "\n"
     ]
    },
    {
     "data": {
      "text/plain": "<IPython.core.display.HTML object>",
      "text/html": "== Status ==<br>Memory usage on this node: 7.7/15.6 GiB<br>Using FIFO scheduling algorithm.<br>Resources requested: 1/2 CPUs, 1/1 GPUs, 0.0/6.93 GiB heap, 0.0/2.39 GiB objects (0/1.0 accelerator_type:P100)<br>Result logdir: /root/ray_results/my_func_2021-06-17_20-12-02<br>Number of trials: 4/4 (1 RUNNING, 3 TERMINATED)<br><table>\n<thead>\n<tr><th>Trial name         </th><th>status    </th><th>loc           </th><th style=\"text-align: right;\">         lr</th><th style=\"text-align: right;\">   acc</th><th style=\"text-align: right;\">  iter</th><th style=\"text-align: right;\">  total time (s)</th></tr>\n</thead>\n<tbody>\n<tr><td>my_func_486c8_00003</td><td>RUNNING   </td><td>172.19.2.2:164</td><td style=\"text-align: right;\">0.00855231 </td><td style=\"text-align: right;\">0.4068</td><td style=\"text-align: right;\">     3</td><td style=\"text-align: right;\">         42.2395</td></tr>\n<tr><td>my_func_486c8_00000</td><td>TERMINATED</td><td>              </td><td style=\"text-align: right;\">0.00144876 </td><td style=\"text-align: right;\">0.6552</td><td style=\"text-align: right;\">    10</td><td style=\"text-align: right;\">        149.484 </td></tr>\n<tr><td>my_func_486c8_00001</td><td>TERMINATED</td><td>              </td><td style=\"text-align: right;\">0.00015086 </td><td style=\"text-align: right;\">0.5694</td><td style=\"text-align: right;\">    10</td><td style=\"text-align: right;\">        143.338 </td></tr>\n<tr><td>my_func_486c8_00002</td><td>TERMINATED</td><td>              </td><td style=\"text-align: right;\">0.000133983</td><td style=\"text-align: right;\">0.5565</td><td style=\"text-align: right;\">    10</td><td style=\"text-align: right;\">        143.134 </td></tr>\n</tbody>\n</table><br><br>"
     },
     "metadata": {},
     "output_type": "display_data"
    },
    {
     "name": "stdout",
     "output_type": "stream",
     "text": [
      "Result for my_func_486c8_00003:\n",
      "  date: 2021-06-17_20-20-28\n",
      "  done: false\n",
      "  experiment_id: e23e828eb8284596bacd2479914b9813\n",
      "  hostname: 13a89f6488bf\n",
      "  iterations_since_restore: 4\n",
      "  mean_accuracy: 0.4142\n",
      "  node_ip: 172.19.2.2\n",
      "  pid: 164\n",
      "  time_since_restore: 56.81389856338501\n",
      "  time_this_iter_s: 14.57439923286438\n",
      "  time_total_s: 56.81389856338501\n",
      "  timestamp: 1623961228\n",
      "  timesteps_since_restore: 0\n",
      "  training_iteration: 4\n",
      "  trial_id: 486c8_00003\n",
      "  \n",
      "Epoch 5\n",
      "-------------------------------\n",
      "loss: 1.530174  [    0/50000]\n",
      "loss: 1.492863  [ 6400/50000]\n",
      "loss: 1.463837  [12800/50000]\n",
      "loss: 1.544871  [19200/50000]\n",
      "loss: 1.641141  [25600/50000]\n",
      "loss: 1.461572  [32000/50000]\n",
      "loss: 1.435847  [38400/50000]\n",
      "loss: 1.644139  [44800/50000]\n",
      "Train Error: \n",
      " Accuracy: 43.9%, Avg loss: 0.024361 \n",
      "\n",
      "Test Error: \n",
      " Accuracy: 42.6%, Avg loss: 0.024870 \n",
      "\n"
     ]
    },
    {
     "data": {
      "text/plain": "<IPython.core.display.HTML object>",
      "text/html": "== Status ==<br>Memory usage on this node: 7.7/15.6 GiB<br>Using FIFO scheduling algorithm.<br>Resources requested: 1/2 CPUs, 1/1 GPUs, 0.0/6.93 GiB heap, 0.0/2.39 GiB objects (0/1.0 accelerator_type:P100)<br>Result logdir: /root/ray_results/my_func_2021-06-17_20-12-02<br>Number of trials: 4/4 (1 RUNNING, 3 TERMINATED)<br><table>\n<thead>\n<tr><th>Trial name         </th><th>status    </th><th>loc           </th><th style=\"text-align: right;\">         lr</th><th style=\"text-align: right;\">   acc</th><th style=\"text-align: right;\">  iter</th><th style=\"text-align: right;\">  total time (s)</th></tr>\n</thead>\n<tbody>\n<tr><td>my_func_486c8_00003</td><td>RUNNING   </td><td>172.19.2.2:164</td><td style=\"text-align: right;\">0.00855231 </td><td style=\"text-align: right;\">0.4142</td><td style=\"text-align: right;\">     4</td><td style=\"text-align: right;\">         56.8139</td></tr>\n<tr><td>my_func_486c8_00000</td><td>TERMINATED</td><td>              </td><td style=\"text-align: right;\">0.00144876 </td><td style=\"text-align: right;\">0.6552</td><td style=\"text-align: right;\">    10</td><td style=\"text-align: right;\">        149.484 </td></tr>\n<tr><td>my_func_486c8_00001</td><td>TERMINATED</td><td>              </td><td style=\"text-align: right;\">0.00015086 </td><td style=\"text-align: right;\">0.5694</td><td style=\"text-align: right;\">    10</td><td style=\"text-align: right;\">        143.338 </td></tr>\n<tr><td>my_func_486c8_00002</td><td>TERMINATED</td><td>              </td><td style=\"text-align: right;\">0.000133983</td><td style=\"text-align: right;\">0.5565</td><td style=\"text-align: right;\">    10</td><td style=\"text-align: right;\">        143.134 </td></tr>\n</tbody>\n</table><br><br>"
     },
     "metadata": {},
     "output_type": "display_data"
    },
    {
     "name": "stdout",
     "output_type": "stream",
     "text": [
      "Result for my_func_486c8_00003:\n",
      "  date: 2021-06-17_20-20-42\n",
      "  done: false\n",
      "  experiment_id: e23e828eb8284596bacd2479914b9813\n",
      "  hostname: 13a89f6488bf\n",
      "  iterations_since_restore: 5\n",
      "  mean_accuracy: 0.4259\n",
      "  node_ip: 172.19.2.2\n",
      "  pid: 164\n",
      "  time_since_restore: 70.86344718933105\n",
      "  time_this_iter_s: 14.049548625946045\n",
      "  time_total_s: 70.86344718933105\n",
      "  timestamp: 1623961242\n",
      "  timesteps_since_restore: 0\n",
      "  training_iteration: 5\n",
      "  trial_id: 486c8_00003\n",
      "  \n",
      "Epoch 6\n",
      "-------------------------------\n",
      "loss: 1.539624  [    0/50000]\n",
      "loss: 1.323318  [ 6400/50000]\n",
      "loss: 1.495070  [12800/50000]\n",
      "loss: 1.283777  [19200/50000]\n",
      "loss: 1.509006  [25600/50000]\n",
      "loss: 1.630427  [32000/50000]\n",
      "loss: 1.653244  [38400/50000]\n",
      "loss: 1.270526  [44800/50000]\n",
      "Train Error: \n",
      " Accuracy: 46.8%, Avg loss: 0.022939 \n",
      "\n",
      "Test Error: \n",
      " Accuracy: 45.3%, Avg loss: 0.023428 \n",
      "\n"
     ]
    },
    {
     "data": {
      "text/plain": "<IPython.core.display.HTML object>",
      "text/html": "== Status ==<br>Memory usage on this node: 7.7/15.6 GiB<br>Using FIFO scheduling algorithm.<br>Resources requested: 1/2 CPUs, 1/1 GPUs, 0.0/6.93 GiB heap, 0.0/2.39 GiB objects (0/1.0 accelerator_type:P100)<br>Result logdir: /root/ray_results/my_func_2021-06-17_20-12-02<br>Number of trials: 4/4 (1 RUNNING, 3 TERMINATED)<br><table>\n<thead>\n<tr><th>Trial name         </th><th>status    </th><th>loc           </th><th style=\"text-align: right;\">         lr</th><th style=\"text-align: right;\">   acc</th><th style=\"text-align: right;\">  iter</th><th style=\"text-align: right;\">  total time (s)</th></tr>\n</thead>\n<tbody>\n<tr><td>my_func_486c8_00003</td><td>RUNNING   </td><td>172.19.2.2:164</td><td style=\"text-align: right;\">0.00855231 </td><td style=\"text-align: right;\">0.4259</td><td style=\"text-align: right;\">     5</td><td style=\"text-align: right;\">         70.8634</td></tr>\n<tr><td>my_func_486c8_00000</td><td>TERMINATED</td><td>              </td><td style=\"text-align: right;\">0.00144876 </td><td style=\"text-align: right;\">0.6552</td><td style=\"text-align: right;\">    10</td><td style=\"text-align: right;\">        149.484 </td></tr>\n<tr><td>my_func_486c8_00001</td><td>TERMINATED</td><td>              </td><td style=\"text-align: right;\">0.00015086 </td><td style=\"text-align: right;\">0.5694</td><td style=\"text-align: right;\">    10</td><td style=\"text-align: right;\">        143.338 </td></tr>\n<tr><td>my_func_486c8_00002</td><td>TERMINATED</td><td>              </td><td style=\"text-align: right;\">0.000133983</td><td style=\"text-align: right;\">0.5565</td><td style=\"text-align: right;\">    10</td><td style=\"text-align: right;\">        143.134 </td></tr>\n</tbody>\n</table><br><br>"
     },
     "metadata": {},
     "output_type": "display_data"
    },
    {
     "name": "stdout",
     "output_type": "stream",
     "text": [
      "Result for my_func_486c8_00003:\n",
      "  date: 2021-06-17_20-20-56\n",
      "  done: false\n",
      "  experiment_id: e23e828eb8284596bacd2479914b9813\n",
      "  hostname: 13a89f6488bf\n",
      "  iterations_since_restore: 6\n",
      "  mean_accuracy: 0.4534\n",
      "  node_ip: 172.19.2.2\n",
      "  pid: 164\n",
      "  time_since_restore: 85.30327486991882\n",
      "  time_this_iter_s: 14.439827680587769\n",
      "  time_total_s: 85.30327486991882\n",
      "  timestamp: 1623961256\n",
      "  timesteps_since_restore: 0\n",
      "  training_iteration: 6\n",
      "  trial_id: 486c8_00003\n",
      "  \n",
      "Epoch 7\n",
      "-------------------------------\n",
      "loss: 1.566261  [    0/50000]\n",
      "loss: 1.436425  [ 6400/50000]\n",
      "loss: 1.514693  [12800/50000]\n",
      "loss: 1.522321  [19200/50000]\n",
      "loss: 1.348684  [25600/50000]\n",
      "loss: 1.543167  [32000/50000]\n",
      "loss: 1.692047  [38400/50000]\n",
      "loss: 1.546323  [44800/50000]\n",
      "Train Error: \n",
      " Accuracy: 46.7%, Avg loss: 0.023159 \n",
      "\n",
      "Test Error: \n",
      " Accuracy: 45.2%, Avg loss: 0.023815 \n",
      "\n"
     ]
    },
    {
     "data": {
      "text/plain": "<IPython.core.display.HTML object>",
      "text/html": "== Status ==<br>Memory usage on this node: 7.7/15.6 GiB<br>Using FIFO scheduling algorithm.<br>Resources requested: 1/2 CPUs, 1/1 GPUs, 0.0/6.93 GiB heap, 0.0/2.39 GiB objects (0/1.0 accelerator_type:P100)<br>Result logdir: /root/ray_results/my_func_2021-06-17_20-12-02<br>Number of trials: 4/4 (1 RUNNING, 3 TERMINATED)<br><table>\n<thead>\n<tr><th>Trial name         </th><th>status    </th><th>loc           </th><th style=\"text-align: right;\">         lr</th><th style=\"text-align: right;\">   acc</th><th style=\"text-align: right;\">  iter</th><th style=\"text-align: right;\">  total time (s)</th></tr>\n</thead>\n<tbody>\n<tr><td>my_func_486c8_00003</td><td>RUNNING   </td><td>172.19.2.2:164</td><td style=\"text-align: right;\">0.00855231 </td><td style=\"text-align: right;\">0.4534</td><td style=\"text-align: right;\">     6</td><td style=\"text-align: right;\">         85.3033</td></tr>\n<tr><td>my_func_486c8_00000</td><td>TERMINATED</td><td>              </td><td style=\"text-align: right;\">0.00144876 </td><td style=\"text-align: right;\">0.6552</td><td style=\"text-align: right;\">    10</td><td style=\"text-align: right;\">        149.484 </td></tr>\n<tr><td>my_func_486c8_00001</td><td>TERMINATED</td><td>              </td><td style=\"text-align: right;\">0.00015086 </td><td style=\"text-align: right;\">0.5694</td><td style=\"text-align: right;\">    10</td><td style=\"text-align: right;\">        143.338 </td></tr>\n<tr><td>my_func_486c8_00002</td><td>TERMINATED</td><td>              </td><td style=\"text-align: right;\">0.000133983</td><td style=\"text-align: right;\">0.5565</td><td style=\"text-align: right;\">    10</td><td style=\"text-align: right;\">        143.134 </td></tr>\n</tbody>\n</table><br><br>"
     },
     "metadata": {},
     "output_type": "display_data"
    },
    {
     "name": "stderr",
     "output_type": "stream",
     "text": [
      "2021-06-17 20:21:10,699\tWARNING ray_trial_executor.py:593 -- Over the last 60 seconds, the Tune event loop has been backlogged processing new results. Consider increasing your period of result reporting to improve performance.\n"
     ]
    },
    {
     "name": "stdout",
     "output_type": "stream",
     "text": [
      "Result for my_func_486c8_00003:\n",
      "  date: 2021-06-17_20-21-10\n",
      "  done: false\n",
      "  experiment_id: e23e828eb8284596bacd2479914b9813\n",
      "  hostname: 13a89f6488bf\n",
      "  iterations_since_restore: 7\n",
      "  mean_accuracy: 0.4521\n",
      "  node_ip: 172.19.2.2\n",
      "  pid: 164\n",
      "  time_since_restore: 99.25011801719666\n",
      "  time_this_iter_s: 13.946843147277832\n",
      "  time_total_s: 99.25011801719666\n",
      "  timestamp: 1623961270\n",
      "  timesteps_since_restore: 0\n",
      "  training_iteration: 7\n",
      "  trial_id: 486c8_00003\n",
      "  \n",
      "Epoch 8\n",
      "-------------------------------\n",
      "loss: 1.396765  [    0/50000]\n",
      "loss: 1.645653  [ 6400/50000]\n",
      "loss: 1.772672  [12800/50000]\n",
      "loss: 1.719208  [19200/50000]\n",
      "loss: 1.538445  [25600/50000]\n",
      "loss: 1.554092  [32000/50000]\n",
      "loss: 1.544942  [38400/50000]\n",
      "loss: 1.389228  [44800/50000]\n",
      "Train Error: \n",
      " Accuracy: 47.5%, Avg loss: 0.022550 \n",
      "\n",
      "Test Error: \n",
      " Accuracy: 46.8%, Avg loss: 0.023158 \n",
      "\n"
     ]
    },
    {
     "data": {
      "text/plain": "<IPython.core.display.HTML object>",
      "text/html": "== Status ==<br>Memory usage on this node: 7.7/15.6 GiB<br>Using FIFO scheduling algorithm.<br>Resources requested: 1/2 CPUs, 1/1 GPUs, 0.0/6.93 GiB heap, 0.0/2.39 GiB objects (0/1.0 accelerator_type:P100)<br>Result logdir: /root/ray_results/my_func_2021-06-17_20-12-02<br>Number of trials: 4/4 (1 RUNNING, 3 TERMINATED)<br><table>\n<thead>\n<tr><th>Trial name         </th><th>status    </th><th>loc           </th><th style=\"text-align: right;\">         lr</th><th style=\"text-align: right;\">   acc</th><th style=\"text-align: right;\">  iter</th><th style=\"text-align: right;\">  total time (s)</th></tr>\n</thead>\n<tbody>\n<tr><td>my_func_486c8_00003</td><td>RUNNING   </td><td>172.19.2.2:164</td><td style=\"text-align: right;\">0.00855231 </td><td style=\"text-align: right;\">0.4521</td><td style=\"text-align: right;\">     7</td><td style=\"text-align: right;\">         99.2501</td></tr>\n<tr><td>my_func_486c8_00000</td><td>TERMINATED</td><td>              </td><td style=\"text-align: right;\">0.00144876 </td><td style=\"text-align: right;\">0.6552</td><td style=\"text-align: right;\">    10</td><td style=\"text-align: right;\">        149.484 </td></tr>\n<tr><td>my_func_486c8_00001</td><td>TERMINATED</td><td>              </td><td style=\"text-align: right;\">0.00015086 </td><td style=\"text-align: right;\">0.5694</td><td style=\"text-align: right;\">    10</td><td style=\"text-align: right;\">        143.338 </td></tr>\n<tr><td>my_func_486c8_00002</td><td>TERMINATED</td><td>              </td><td style=\"text-align: right;\">0.000133983</td><td style=\"text-align: right;\">0.5565</td><td style=\"text-align: right;\">    10</td><td style=\"text-align: right;\">        143.134 </td></tr>\n</tbody>\n</table><br><br>"
     },
     "metadata": {},
     "output_type": "display_data"
    },
    {
     "name": "stdout",
     "output_type": "stream",
     "text": [
      "Result for my_func_486c8_00003:\n",
      "  date: 2021-06-17_20-21-24\n",
      "  done: false\n",
      "  experiment_id: e23e828eb8284596bacd2479914b9813\n",
      "  hostname: 13a89f6488bf\n",
      "  iterations_since_restore: 8\n",
      "  mean_accuracy: 0.4684\n",
      "  node_ip: 172.19.2.2\n",
      "  pid: 164\n",
      "  time_since_restore: 113.32941436767578\n",
      "  time_this_iter_s: 14.079296350479126\n",
      "  time_total_s: 113.32941436767578\n",
      "  timestamp: 1623961284\n",
      "  timesteps_since_restore: 0\n",
      "  training_iteration: 8\n",
      "  trial_id: 486c8_00003\n",
      "  \n",
      "Epoch 9\n",
      "-------------------------------\n",
      "loss: 1.189612  [    0/50000]\n",
      "loss: 1.481766  [ 6400/50000]\n",
      "loss: 1.362733  [12800/50000]\n",
      "loss: 1.584909  [19200/50000]\n",
      "loss: 1.572804  [25600/50000]\n",
      "loss: 1.539620  [32000/50000]\n",
      "loss: 1.628915  [38400/50000]\n",
      "loss: 1.396207  [44800/50000]\n",
      "Train Error: \n",
      " Accuracy: 47.0%, Avg loss: 0.023087 \n",
      "\n",
      "Test Error: \n",
      " Accuracy: 46.3%, Avg loss: 0.023532 \n",
      "\n"
     ]
    },
    {
     "data": {
      "text/plain": "<IPython.core.display.HTML object>",
      "text/html": "== Status ==<br>Memory usage on this node: 7.7/15.6 GiB<br>Using FIFO scheduling algorithm.<br>Resources requested: 1/2 CPUs, 1/1 GPUs, 0.0/6.93 GiB heap, 0.0/2.39 GiB objects (0/1.0 accelerator_type:P100)<br>Result logdir: /root/ray_results/my_func_2021-06-17_20-12-02<br>Number of trials: 4/4 (1 RUNNING, 3 TERMINATED)<br><table>\n<thead>\n<tr><th>Trial name         </th><th>status    </th><th>loc           </th><th style=\"text-align: right;\">         lr</th><th style=\"text-align: right;\">   acc</th><th style=\"text-align: right;\">  iter</th><th style=\"text-align: right;\">  total time (s)</th></tr>\n</thead>\n<tbody>\n<tr><td>my_func_486c8_00003</td><td>RUNNING   </td><td>172.19.2.2:164</td><td style=\"text-align: right;\">0.00855231 </td><td style=\"text-align: right;\">0.4684</td><td style=\"text-align: right;\">     8</td><td style=\"text-align: right;\">         113.329</td></tr>\n<tr><td>my_func_486c8_00000</td><td>TERMINATED</td><td>              </td><td style=\"text-align: right;\">0.00144876 </td><td style=\"text-align: right;\">0.6552</td><td style=\"text-align: right;\">    10</td><td style=\"text-align: right;\">         149.484</td></tr>\n<tr><td>my_func_486c8_00001</td><td>TERMINATED</td><td>              </td><td style=\"text-align: right;\">0.00015086 </td><td style=\"text-align: right;\">0.5694</td><td style=\"text-align: right;\">    10</td><td style=\"text-align: right;\">         143.338</td></tr>\n<tr><td>my_func_486c8_00002</td><td>TERMINATED</td><td>              </td><td style=\"text-align: right;\">0.000133983</td><td style=\"text-align: right;\">0.5565</td><td style=\"text-align: right;\">    10</td><td style=\"text-align: right;\">         143.134</td></tr>\n</tbody>\n</table><br><br>"
     },
     "metadata": {},
     "output_type": "display_data"
    },
    {
     "name": "stdout",
     "output_type": "stream",
     "text": [
      "Result for my_func_486c8_00003:\n",
      "  date: 2021-06-17_20-21-39\n",
      "  done: false\n",
      "  experiment_id: e23e828eb8284596bacd2479914b9813\n",
      "  hostname: 13a89f6488bf\n",
      "  iterations_since_restore: 9\n",
      "  mean_accuracy: 0.4632\n",
      "  node_ip: 172.19.2.2\n",
      "  pid: 164\n",
      "  time_since_restore: 127.56245970726013\n",
      "  time_this_iter_s: 14.23304533958435\n",
      "  time_total_s: 127.56245970726013\n",
      "  timestamp: 1623961299\n",
      "  timesteps_since_restore: 0\n",
      "  training_iteration: 9\n",
      "  trial_id: 486c8_00003\n",
      "  \n",
      "Epoch 10\n",
      "-------------------------------\n",
      "loss: 1.442043  [    0/50000]\n",
      "loss: 1.502857  [ 6400/50000]\n",
      "loss: 1.545196  [12800/50000]\n",
      "loss: 1.649372  [19200/50000]\n",
      "loss: 1.553633  [25600/50000]\n",
      "loss: 1.707816  [32000/50000]\n",
      "loss: 1.566952  [38400/50000]\n",
      "loss: 1.472685  [44800/50000]\n",
      "Train Error: \n",
      " Accuracy: 47.9%, Avg loss: 0.022699 \n",
      "\n",
      "Test Error: \n",
      " Accuracy: 47.0%, Avg loss: 0.023182 \n",
      "\n"
     ]
    },
    {
     "data": {
      "text/plain": "<IPython.core.display.HTML object>",
      "text/html": "== Status ==<br>Memory usage on this node: 7.7/15.6 GiB<br>Using FIFO scheduling algorithm.<br>Resources requested: 1/2 CPUs, 1/1 GPUs, 0.0/6.93 GiB heap, 0.0/2.39 GiB objects (0/1.0 accelerator_type:P100)<br>Result logdir: /root/ray_results/my_func_2021-06-17_20-12-02<br>Number of trials: 4/4 (1 RUNNING, 3 TERMINATED)<br><table>\n<thead>\n<tr><th>Trial name         </th><th>status    </th><th>loc           </th><th style=\"text-align: right;\">         lr</th><th style=\"text-align: right;\">   acc</th><th style=\"text-align: right;\">  iter</th><th style=\"text-align: right;\">  total time (s)</th></tr>\n</thead>\n<tbody>\n<tr><td>my_func_486c8_00003</td><td>RUNNING   </td><td>172.19.2.2:164</td><td style=\"text-align: right;\">0.00855231 </td><td style=\"text-align: right;\">0.4632</td><td style=\"text-align: right;\">     9</td><td style=\"text-align: right;\">         127.562</td></tr>\n<tr><td>my_func_486c8_00000</td><td>TERMINATED</td><td>              </td><td style=\"text-align: right;\">0.00144876 </td><td style=\"text-align: right;\">0.6552</td><td style=\"text-align: right;\">    10</td><td style=\"text-align: right;\">         149.484</td></tr>\n<tr><td>my_func_486c8_00001</td><td>TERMINATED</td><td>              </td><td style=\"text-align: right;\">0.00015086 </td><td style=\"text-align: right;\">0.5694</td><td style=\"text-align: right;\">    10</td><td style=\"text-align: right;\">         143.338</td></tr>\n<tr><td>my_func_486c8_00002</td><td>TERMINATED</td><td>              </td><td style=\"text-align: right;\">0.000133983</td><td style=\"text-align: right;\">0.5565</td><td style=\"text-align: right;\">    10</td><td style=\"text-align: right;\">         143.134</td></tr>\n</tbody>\n</table><br><br>"
     },
     "metadata": {},
     "output_type": "display_data"
    },
    {
     "name": "stdout",
     "output_type": "stream",
     "text": [
      "Result for my_func_486c8_00003:\n",
      "  date: 2021-06-17_20-21-52\n",
      "  done: false\n",
      "  experiment_id: e23e828eb8284596bacd2479914b9813\n",
      "  hostname: 13a89f6488bf\n",
      "  iterations_since_restore: 10\n",
      "  mean_accuracy: 0.4702\n",
      "  node_ip: 172.19.2.2\n",
      "  pid: 164\n",
      "  time_since_restore: 141.39892578125\n",
      "  time_this_iter_s: 13.836466073989868\n",
      "  time_total_s: 141.39892578125\n",
      "  timestamp: 1623961312\n",
      "  timesteps_since_restore: 0\n",
      "  training_iteration: 10\n",
      "  trial_id: 486c8_00003\n",
      "  \n",
      "Done!\n",
      "Result for my_func_486c8_00003:\n",
      "  date: 2021-06-17_20-21-52\n",
      "  done: true\n",
      "  experiment_id: e23e828eb8284596bacd2479914b9813\n",
      "  experiment_tag: 3_lr=0.0085523\n",
      "  hostname: 13a89f6488bf\n",
      "  iterations_since_restore: 10\n",
      "  mean_accuracy: 0.4702\n",
      "  node_ip: 172.19.2.2\n",
      "  pid: 164\n",
      "  time_since_restore: 141.39892578125\n",
      "  time_this_iter_s: 13.836466073989868\n",
      "  time_total_s: 141.39892578125\n",
      "  timestamp: 1623961312\n",
      "  timesteps_since_restore: 0\n",
      "  training_iteration: 10\n",
      "  trial_id: 486c8_00003\n",
      "  \n"
     ]
    },
    {
     "data": {
      "text/plain": "<IPython.core.display.HTML object>",
      "text/html": "== Status ==<br>Memory usage on this node: 7.7/15.6 GiB<br>Using FIFO scheduling algorithm.<br>Resources requested: 0/2 CPUs, 0/1 GPUs, 0.0/6.93 GiB heap, 0.0/2.39 GiB objects (0/1.0 accelerator_type:P100)<br>Result logdir: /root/ray_results/my_func_2021-06-17_20-12-02<br>Number of trials: 4/4 (4 TERMINATED)<br><table>\n<thead>\n<tr><th>Trial name         </th><th>status    </th><th>loc  </th><th style=\"text-align: right;\">         lr</th><th style=\"text-align: right;\">   acc</th><th style=\"text-align: right;\">  iter</th><th style=\"text-align: right;\">  total time (s)</th></tr>\n</thead>\n<tbody>\n<tr><td>my_func_486c8_00000</td><td>TERMINATED</td><td>     </td><td style=\"text-align: right;\">0.00144876 </td><td style=\"text-align: right;\">0.6552</td><td style=\"text-align: right;\">    10</td><td style=\"text-align: right;\">         149.484</td></tr>\n<tr><td>my_func_486c8_00001</td><td>TERMINATED</td><td>     </td><td style=\"text-align: right;\">0.00015086 </td><td style=\"text-align: right;\">0.5694</td><td style=\"text-align: right;\">    10</td><td style=\"text-align: right;\">         143.338</td></tr>\n<tr><td>my_func_486c8_00002</td><td>TERMINATED</td><td>     </td><td style=\"text-align: right;\">0.000133983</td><td style=\"text-align: right;\">0.5565</td><td style=\"text-align: right;\">    10</td><td style=\"text-align: right;\">         143.134</td></tr>\n<tr><td>my_func_486c8_00003</td><td>TERMINATED</td><td>     </td><td style=\"text-align: right;\">0.00855231 </td><td style=\"text-align: right;\">0.4702</td><td style=\"text-align: right;\">    10</td><td style=\"text-align: right;\">         141.399</td></tr>\n</tbody>\n</table><br><br>"
     },
     "metadata": {},
     "output_type": "display_data"
    },
    {
     "name": "stderr",
     "output_type": "stream",
     "text": [
      "2021-06-17 20:21:52,866\tINFO tune.py:450 -- Total run time: 591.54 seconds (588.71 seconds for the tuning loop).\n"
     ]
    }
   ],
   "source": [
    "import ray\n",
    "from ray import tune\n",
    "\n",
    "\n",
    "def my_func(config, reporter):\n",
    "    device = config['device']\n",
    "    model = NeuralNetworkCNN().to(device)\n",
    "    print(model)\n",
    "    loss_fn = nn.CrossEntropyLoss()\n",
    "\n",
    "    optimizer = torch.optim.Adam(model.parameters(), lr=config['lr'])\n",
    "    epochs = 10\n",
    "    for t in range(epochs):\n",
    "        print(f\"Epoch {t + 1}\\n-------------------------------\")\n",
    "        train(train_dataloader, model, loss_fn, optimizer)\n",
    "        test(train_dataloader, model, loss_fn, title='Train')\n",
    "        acc = test(test_dataloader, model,loss_fn, title='Test')\n",
    "        reporter(mean_accuracy=acc)\n",
    "    print(\"Done!\")\n",
    "\n",
    "\n",
    "ray.init(local_mode=True, ignore_reinit_error=True)\n",
    "e = tune.run(my_func,\n",
    "             resources_per_trial={\"gpu\": 1},\n",
    "             metric='mean_accuracy',\n",
    "             stop={\"mean_accuracy\": 0.95},\n",
    "             config={\n",
    "                 \"lr\": tune.loguniform(1e-4, 1e-2),\n",
    "                 \"device\": \"cuda\"\n",
    "             },\n",
    "             num_samples=4\n",
    "             )"
   ],
   "metadata": {
    "collapsed": false,
    "pycharm": {
     "name": "#%%\n"
    }
   }
  },
  {
   "cell_type": "code",
   "execution_count": 38,
   "outputs": [
    {
     "name": "stdout",
     "output_type": "stream",
     "text": [
      "best config\n"
     ]
    },
    {
     "data": {
      "text/plain": "   mean_accuracy  config/lr\n0         0.6552   0.001449",
      "text/html": "<div>\n<style scoped>\n    .dataframe tbody tr th:only-of-type {\n        vertical-align: middle;\n    }\n\n    .dataframe tbody tr th {\n        vertical-align: top;\n    }\n\n    .dataframe thead th {\n        text-align: right;\n    }\n</style>\n<table border=\"1\" class=\"dataframe\">\n  <thead>\n    <tr style=\"text-align: right;\">\n      <th></th>\n      <th>mean_accuracy</th>\n      <th>config/lr</th>\n    </tr>\n  </thead>\n  <tbody>\n    <tr>\n      <th>0</th>\n      <td>0.6552</td>\n      <td>0.001449</td>\n    </tr>\n  </tbody>\n</table>\n</div>"
     },
     "execution_count": 38,
     "metadata": {},
     "output_type": "execute_result"
    }
   ],
   "source": [
    "df=e.dataframe()\n",
    "print('best config')\n",
    "df[df['mean_accuracy']==df['mean_accuracy'].max()][['mean_accuracy','config/lr']]\n"
   ],
   "metadata": {
    "collapsed": false,
    "pycharm": {
     "name": "#%%\n"
    }
   }
  }
 ],
 "metadata": {
  "kernelspec": {
   "display_name": "Python 3",
   "language": "python",
   "name": "python3"
  },
  "language_info": {
   "codemirror_mode": {
    "name": "ipython",
    "version": 2
   },
   "file_extension": ".py",
   "mimetype": "text/x-python",
   "name": "python",
   "nbconvert_exporter": "python",
   "pygments_lexer": "ipython2",
   "version": "2.7.6"
  }
 },
 "nbformat": 4,
 "nbformat_minor": 0
}